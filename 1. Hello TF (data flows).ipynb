{
 "cells": [
  {
   "cell_type": "markdown",
   "metadata": {},
   "source": [
    "# Tensorflow\n",
    "\n",
    "## how to install\n",
    "\n",
    "pip install -U tensorflow\n",
    "\n",
    "pip install -U tensorflow-gpu  (GPU binary)\n",
    "\n",
    "소스코드 컴파일 (속도를 위해서는 이 방법 추천)\n",
    "\n",
    "## Versions\n",
    "- 1.6 RC\n",
    "- 1.5 stable\n",
    "- 1.0 (11 Feb 2017)\n",
    "- 0.5 (9 Nov 2015) 첫 번째 공개 버전\n",
    "\n",
    "## APIs\n",
    "\n",
    "- **Python**\n",
    "- C++\n",
    "- Go\n",
    "- Java\n"
   ]
  },
  {
   "cell_type": "code",
   "execution_count": 1,
   "metadata": {},
   "outputs": [],
   "source": [
    "import tensorflow as tf"
   ]
  },
  {
   "cell_type": "code",
   "execution_count": 2,
   "metadata": {},
   "outputs": [],
   "source": [
    "hello_string = tf.constant('Hello world!')"
   ]
  },
  {
   "cell_type": "code",
   "execution_count": 3,
   "metadata": {},
   "outputs": [
    {
     "name": "stdout",
     "output_type": "stream",
     "text": [
      "b'Hello world!'\n"
     ]
    }
   ],
   "source": [
    "with tf.Session() as sess:\n",
    "    sess.run(tf.global_variables_initializer())\n",
    "    print(sess.run(hello_string))"
   ]
  },
  {
   "cell_type": "code",
   "execution_count": 4,
   "metadata": {},
   "outputs": [],
   "source": [
    "a = tf.placeholder(tf.float32)\n",
    "b = tf.placeholder(tf.float32)"
   ]
  },
  {
   "cell_type": "code",
   "execution_count": 5,
   "metadata": {},
   "outputs": [],
   "source": [
    "c = a + b\n",
    "d = a - b"
   ]
  },
  {
   "cell_type": "code",
   "execution_count": 6,
   "metadata": {
    "scrolled": true
   },
   "outputs": [
    {
     "name": "stdout",
     "output_type": "stream",
     "text": [
      "[6.0, -1.0]\n",
      "[8.9, 1.9000001]\n"
     ]
    }
   ],
   "source": [
    "with tf.Session() as sess:\n",
    "    sess.run(tf.global_variables_initializer())\n",
    "    print(sess.run([c, d], feed_dict={a: 2.5, b: 3.5}))\n",
    "    print(sess.run([c, d], feed_dict={a: 5.4, b: 3.5}))"
   ]
  },
  {
   "cell_type": "markdown",
   "metadata": {},
   "source": [
    "# Appendix : 다른 DL 라이브러리들\n",
    "\n",
    "- PyTorch (Facebook)\n",
    "- MXNet (Amazon)\n",
    "- CNTK (Microsoft)\n",
    "- Caffe2 (NVIDIA)\n",
    "- Chainer (Preferred Network)\n",
    "- ..."
   ]
  }
 ],
 "metadata": {
  "kernelspec": {
   "display_name": "Python 3",
   "language": "python",
   "name": "python3"
  },
  "language_info": {
   "codemirror_mode": {
    "name": "ipython",
    "version": 3
   },
   "file_extension": ".py",
   "mimetype": "text/x-python",
   "name": "python",
   "nbconvert_exporter": "python",
   "pygments_lexer": "ipython3",
   "version": "3.6.4"
  }
 },
 "nbformat": 4,
 "nbformat_minor": 2
}
