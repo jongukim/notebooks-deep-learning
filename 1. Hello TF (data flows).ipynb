{
 "cells": [
  {
   "cell_type": "markdown",
   "metadata": {},
   "source": [
    "# Tensorflow\n",
    "\n",
    "## how to install\n",
    "\n",
    "- pip install -U tensorflow\n",
    "- pip install -U tensorflow-gpu  (GPU binary)\n",
    "- 소스코드 컴파일 (최적화 가능) : 컴파일 하지 않으면 warning 발생 (AVX : advanced vector extensions)\n",
    "> C:\\tf_jenkins\\workspace\\rel-win\\M\\windows\\PY\\36\\tensorflow\\core\\platform\\cpu_feature_guard.cc:137] Your CPU supports instructions that this TensorFlow binary was not compiled to use: AVX AVX2\n",
    "\n",
    "## Versions\n",
    "- 1.7-RC0 : Eager mode\n",
    "- 1.6 : AVX instructions\n",
    "- 1.5 (2018/01/26) : CUDA 9.0 and cudnn 7, Eager execution(beta), Tensorflow Lite(beta)\n",
    "- 1.4 (2017/11/03) : tf.keras, tf.data\n",
    "- 1.3 (2017/08/17)\n",
    "- 1.2 (2017/06/16) : Python 3.6 (on Windows), Intel MKL(math kernel library)\n",
    "- 1.1 (2017/04/27)\n",
    "- 1.0 (2017/02/11)\n",
    "- 0.5 (2015/11/09) : 첫 번째 공개 버전\n",
    "\n",
    "## 지원 언어\n",
    "\n",
    "- **Python**\n",
    "- C++\n",
    "- Go\n",
    "- Java\n"
   ]
  },
  {
   "cell_type": "code",
   "execution_count": 1,
   "metadata": {},
   "outputs": [],
   "source": [
    "import tensorflow as tf"
   ]
  },
  {
   "cell_type": "code",
   "execution_count": 2,
   "metadata": {},
   "outputs": [],
   "source": [
    "hello_string = tf.constant('Hello world!')"
   ]
  },
  {
   "cell_type": "code",
   "execution_count": 3,
   "metadata": {},
   "outputs": [
    {
     "name": "stdout",
     "output_type": "stream",
     "text": [
      "b'Hello world!'\n"
     ]
    }
   ],
   "source": [
    "with tf.Session() as sess:\n",
    "    sess.run(tf.global_variables_initializer())\n",
    "    print(sess.run(hello_string))"
   ]
  },
  {
   "cell_type": "markdown",
   "metadata": {},
   "source": [
    "---"
   ]
  },
  {
   "cell_type": "code",
   "execution_count": 4,
   "metadata": {},
   "outputs": [],
   "source": [
    "a = tf.placeholder(tf.float32)\n",
    "b = tf.placeholder(tf.float32)"
   ]
  },
  {
   "cell_type": "code",
   "execution_count": 5,
   "metadata": {},
   "outputs": [],
   "source": [
    "c = a + b\n",
    "d = a - b"
   ]
  },
  {
   "cell_type": "code",
   "execution_count": 6,
   "metadata": {
    "scrolled": true
   },
   "outputs": [
    {
     "name": "stdout",
     "output_type": "stream",
     "text": [
      "[6.0, -1.0]\n",
      "[8.9, 1.9000001]\n"
     ]
    }
   ],
   "source": [
    "with tf.Session() as sess:\n",
    "    sess.run(tf.global_variables_initializer())\n",
    "    print(sess.run([c, d], feed_dict={a: 2.5, b: 3.5}))\n",
    "    print(sess.run([c, d], feed_dict={a: 5.4, b: 3.5}))"
   ]
  },
  {
   "cell_type": "markdown",
   "metadata": {},
   "source": [
    "## Graph 구성 이후 데이터 흘려보내기(flow)"
   ]
  },
  {
   "cell_type": "code",
   "execution_count": 7,
   "metadata": {},
   "outputs": [],
   "source": [
    "g = tf.Graph()\n",
    "with g.as_default():\n",
    "    a = tf.placeholder(tf.int32)\n",
    "    b = tf.placeholder(tf.int32)\n",
    "    c = a + b\n",
    "    d = a - b"
   ]
  },
  {
   "cell_type": "code",
   "execution_count": 8,
   "metadata": {},
   "outputs": [
    {
     "name": "stdout",
     "output_type": "stream",
     "text": [
      "[5, -1]\n",
      "[8, 2]\n"
     ]
    }
   ],
   "source": [
    "with tf.Session(graph=g) as sess:\n",
    "    sess.run(tf.global_variables_initializer())\n",
    "    print(sess.run([c, d], feed_dict={a: 2, b: 3}))\n",
    "    print(sess.run([c, d], feed_dict={a: 5, b: 3}))"
   ]
  },
  {
   "cell_type": "markdown",
   "metadata": {},
   "source": [
    "### Static graph vs. Dynamic graph\n",
    "\n",
    "Tensorflow Eager"
   ]
  },
  {
   "cell_type": "markdown",
   "metadata": {},
   "source": [
    "# Appendix : 다른 DL 라이브러리들\n",
    "\n",
    "- **PyTorch (Facebook)**\n",
    "- MXNet (Amazon)\n",
    "- CNTK (Microsoft)\n",
    "- Caffe2 (NVIDIA)\n",
    "- Chainer (Preferred Network)\n",
    "- ...\n",
    "\n",
    "그리고\n",
    "- Keras\n",
    "- Theano (by  Université de Montréal, Yoshua Bengio)"
   ]
  },
  {
   "cell_type": "markdown",
   "metadata": {},
   "source": [
    "# 끗"
   ]
  }
 ],
 "metadata": {
  "kernelspec": {
   "display_name": "Python 3",
   "language": "python",
   "name": "python3"
  },
  "language_info": {
   "codemirror_mode": {
    "name": "ipython",
    "version": 3
   },
   "file_extension": ".py",
   "mimetype": "text/x-python",
   "name": "python",
   "nbconvert_exporter": "python",
   "pygments_lexer": "ipython3",
   "version": "3.6.4"
  }
 },
 "nbformat": 4,
 "nbformat_minor": 2
}
