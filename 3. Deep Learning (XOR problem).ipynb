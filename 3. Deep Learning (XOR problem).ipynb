{
 "cells": [
  {
   "cell_type": "code",
   "execution_count": 1,
   "metadata": {},
   "outputs": [],
   "source": [
    "import tensorflow as tf\n",
    "import numpy as np\n",
    "import mglearn\n",
    "import matplotlib.pyplot as plt\n",
    "\n",
    "plt.rcParams[\"figure.figsize\"] = [8, 4]"
   ]
  },
  {
   "cell_type": "code",
   "execution_count": 3,
   "metadata": {},
   "outputs": [],
   "source": [
    "X = np.array(([0, 0], [0, 1], [1, 0], [1, 1]))\n",
    "Y = np.array(([0, 1, 1, 0]))"
   ]
  },
  {
   "cell_type": "code",
   "execution_count": 5,
   "metadata": {},
   "outputs": [
    {
     "data": {
      "text/plain": [
       "<matplotlib.legend.Legend at 0x2207208bb00>"
      ]
     },
     "execution_count": 5,
     "metadata": {},
     "output_type": "execute_result"
    },
    {
     "data": {
      "image/png": "[encoded data removed]",
      "text/plain": [
       "<matplotlib.figure.Figure at 0x22070d6c400>"
      ]
     },
     "metadata": {},
     "output_type": "display_data"
    }
   ],
   "source": [
    "mglearn.discrete_scatter(X[:, 0], X[:, 1], Y)\n",
    "plt.ylim(-0.5, 1.5)\n",
    "plt.xlim(-0.5, 1.5)\n",
    "plt.xlabel('Feature 0')\n",
    "plt.ylabel('Feature 1')\n",
    "plt.legend(['0', '1'])"
   ]
  },
  {
   "cell_type": "code",
   "execution_count": 3,
   "metadata": {},
   "outputs": [],
   "source": [
    "g = tf.Graph()\n",
    "with g.as_default():\n",
    "    x = tf.placeholder(tf.float32, [None, 2])  # 2 features\n",
    "    y = tf.placeholder(tf.int64, [None])  # answers (integers)\n",
    "    W = tf.Variable(tf.random_normal(shape=[2, 2]))\n",
    "    b = tf.Variable(tf.random_normal(shape=[2]))\n",
    "    pred = tf.nn.xw_plus_b(x, W, b)\n",
    "    cost = tf.losses.sparse_softmax_cross_entropy(labels=y, logits=pred)\n",
    "    optim = tf.train.GradientDescentOptimizer(learning_rate=0.01).minimize(cost)\n",
    "    pred_int = tf.argmax(pred, 1)\n",
    "    correct_prediction = tf.equal(pred_int, y)\n",
    "    accuracy = tf.reduce_mean(tf.cast(correct_prediction, tf.float32))"
   ]
  },
  {
   "cell_type": "code",
   "execution_count": 4,
   "metadata": {},
   "outputs": [
    {
     "name": "stdout",
     "output_type": "stream",
     "text": [
      "Epoch: 100 cost=2.8598607182502747\n",
      "Epoch: 200 cost=2.8094462156295776\n",
      "Epoch: 300 cost=2.7887244820594788\n",
      "Epoch: 400 cost=2.7798744440078735\n",
      "Epoch: 500 cost=2.775985598564148\n",
      "Epoch: 600 cost=2.7742202281951904\n",
      "Epoch: 700 cost=2.7733924984931946\n",
      "Epoch: 800 cost=2.7729930877685547\n",
      "Epoch: 900 cost=2.7727953791618347\n",
      "Epoch: 1000 cost=2.77269583940506\n",
      "Accuracy: 0.5\n",
      "W: [[ 0.27833512  0.26448208]\n",
      " [-1.2023504  -1.2270358 ]]\n",
      "b: [-0.3315947  -0.30873886]\n",
      "Answers   : [0 1 1 0]\n",
      "Prediction: [1 0 1 0]\n"
     ]
    }
   ],
   "source": [
    "N_EPOCHS = 1000\n",
    "\n",
    "with tf.Session(graph=g) as sess:\n",
    "    sess.run(tf.global_variables_initializer())\n",
    "\n",
    "    for epoch in range(N_EPOCHS):\n",
    "        epoch_cost = 0.\n",
    "        for _ in range(len(X)):\n",
    "            _, c = sess.run([optim, cost], feed_dict={x: X, y: Y})\n",
    "            epoch_cost += c\n",
    "        if (epoch+1) % (N_EPOCHS // 10) == 0:\n",
    "            print(\"Epoch:\", '%02d' % (epoch+1), \"cost={}\".format(epoch_cost))\n",
    "\n",
    "    w_internal, b_internal, answers, prediction, acc = sess.run([W, b, y, pred_int, accuracy], feed_dict={x: X, y: Y})\n",
    "    print(\"Accuracy:\", acc)\n",
    "    print(\"W:\", w_internal)\n",
    "    print(\"b:\", b_internal)\n",
    "    print(\"Answers   :\", answers)\n",
    "    print(\"Prediction:\", prediction)"
   ]
  },
  {
   "cell_type": "code",
   "execution_count": 5,
   "metadata": {
    "scrolled": true
   },
   "outputs": [
    {
     "data": {
      "text/plain": [
       "<matplotlib.legend.Legend at 0x22a41ea7208>"
      ]
     },
     "execution_count": 5,
     "metadata": {},
     "output_type": "execute_result"
    },
    {
     "data": {
      "image/png": "[encoded data removed]",
      "text/plain": [
       "<matplotlib.figure.Figure at 0x22a41dfc588>"
      ]
     },
     "metadata": {},
     "output_type": "display_data"
    }
   ],
   "source": [
    "mglearn.discrete_scatter(X[:, 0], X[:, 1], Y)\n",
    "line = np.linspace(-1, 2)\n",
    "for coef, bias, color in zip(w_internal.transpose(), b_internal, mglearn.cm3.colors):\n",
    "    plt.plot(line, -(coef[0] * line + bias) / coef[1], c=color)\n",
    "plt.ylim(-0.5, 1.5)\n",
    "plt.xlim(-0.5, 1.5)\n",
    "plt.xlabel('Feature 0')\n",
    "plt.ylabel('Feature 1')\n",
    "plt.legend(['Class 0', 'Class 1', 'Border 0', 'Border 1'])"
   ]
  },
  {
   "cell_type": "markdown",
   "metadata": {},
   "source": [
    "# 층을 더 쌓아보면? DEEP! LEARNING!\n",
    "\n",
    "(N_SAMPLES, 2) => (2 x 20) => (20 x 2) => 2 answers (0 or 1)"
   ]
  },
  {
   "cell_type": "code",
   "execution_count": 6,
   "metadata": {},
   "outputs": [],
   "source": [
    "g_2_layers = tf.Graph()\n",
    "with g_2_layers.as_default():\n",
    "    x = tf.placeholder(tf.float32, [None, 2])  # 2 features\n",
    "    y = tf.placeholder(tf.int64, [None])  # answers (integers)\n",
    "    W1 = tf.Variable(tf.random_normal(shape=[2, 20]))\n",
    "    b1 = tf.Variable(tf.random_normal(shape=[20]))\n",
    "    hidden_layer1 = tf.nn.xw_plus_b(x, W1, b1)\n",
    "    W2 = tf.Variable(tf.random_normal(shape=[20, 2]))\n",
    "    b2 = tf.Variable(tf.random_normal(shape=[2]))\n",
    "    pred = tf.nn.xw_plus_b(hidden_layer1, W2, b2)\n",
    "    cost = tf.losses.sparse_softmax_cross_entropy(labels=y, logits=pred)\n",
    "    optim = tf.train.GradientDescentOptimizer(learning_rate=0.01).minimize(cost)\n",
    "    pred_int = tf.argmax(pred, 1)\n",
    "    correct_prediction = tf.equal(pred_int, y)\n",
    "    accuracy = tf.reduce_mean(tf.cast(correct_prediction, tf.float32))"
   ]
  },
  {
   "cell_type": "code",
   "execution_count": 7,
   "metadata": {},
   "outputs": [
    {
     "name": "stdout",
     "output_type": "stream",
     "text": [
      "Epoch: 100 cost=2.772588074207306\n",
      "Epoch: 200 cost=2.7725894451141357\n",
      "Epoch: 300 cost=2.7725894451141357\n",
      "Epoch: 400 cost=2.7725894451141357\n",
      "Epoch: 500 cost=2.7725894451141357\n",
      "Epoch: 600 cost=2.7725894451141357\n",
      "Epoch: 700 cost=2.7725894451141357\n",
      "Epoch: 800 cost=2.7725894451141357\n",
      "Epoch: 900 cost=2.7725894451141357\n",
      "Epoch: 1000 cost=2.7725894451141357\n",
      "Accuracy: 0.5\n",
      "W_1: [[-0.12425512  1.395574   -0.4944209   0.9550111  -2.161823   -2.220628\n",
      "   0.51954347  0.44847232 -0.44519186 -0.16086946  0.31036028  0.55241543\n",
      "   0.04696406  0.11059666 -1.7540317   0.9788781   0.13746832 -1.2920239\n",
      "  -2.0278478   1.2186849 ]\n",
      " [ 1.4345509   0.68354017  1.2107021  -2.3095658  -0.47884545 -1.1106745\n",
      "  -0.68319213  1.078771   -0.8272349  -1.1412867  -0.5948475  -0.06407759\n",
      "   0.7494569   0.02005035 -1.0745012   0.90182936  0.31197917  0.4749913\n",
      "   1.7655307  -0.78975487]]\n",
      "b_1: [-0.6022627   0.41726607  0.46844286 -0.24513046  0.46300265  0.8552453\n",
      "  0.38404775 -0.292932    1.6350986   0.4391392   0.6301612   0.10674623\n",
      " -0.0858611   1.4811635   0.99565214  1.0626608  -0.9307988   1.3653291\n",
      " -0.4881231   0.20381801]\n",
      "W_2: [[-0.5098357   0.78887534]\n",
      " [-0.5466607   0.10509255]\n",
      " [-1.1725007   1.0030848 ]\n",
      " [-1.1532087  -0.5737072 ]\n",
      " [-0.1607394  -1.4705659 ]\n",
      " [-0.8197901  -0.7140446 ]\n",
      " [ 1.6493884   1.8243017 ]\n",
      " [-0.29359072 -0.877511  ]\n",
      " [-1.414507    0.27018112]\n",
      " [-1.4641535  -1.3556691 ]\n",
      " [-0.16398303  0.9905231 ]\n",
      " [ 2.2642472  -1.3005879 ]\n",
      " [-0.11009096 -1.5384221 ]\n",
      " [ 1.4957551  -1.5911162 ]\n",
      " [-1.7142198  -1.9202001 ]\n",
      " [ 0.68815845  0.7141126 ]\n",
      " [ 1.4860054   0.6997766 ]\n",
      " [ 0.26439264  0.8889593 ]\n",
      " [-0.32459038 -0.59600717]\n",
      " [-0.66124463 -0.56846607]]\n",
      "b_2: [-1.3048034 -1.652074 ]\n",
      "Answers   : [0 1 1 0]\n",
      "Prediction: [1 1 0 0]\n"
     ]
    }
   ],
   "source": [
    "N_EPOCHS = 1000\n",
    "\n",
    "with tf.Session(graph=g_2_layers) as sess:\n",
    "    sess.run(tf.global_variables_initializer())\n",
    "\n",
    "    for epoch in range(N_EPOCHS):\n",
    "        epoch_cost = 0.\n",
    "        for _ in range(len(X)):\n",
    "            _, c = sess.run([optim, cost], feed_dict={x: X, y: Y})\n",
    "            epoch_cost += c\n",
    "        if (epoch+1) % (N_EPOCHS // 10) == 0:\n",
    "            print(\"Epoch:\", '%02d' % (epoch+1), \"cost={}\".format(epoch_cost))\n",
    "\n",
    "    w1_int, b1_int, w2_int, b2_int, answers, prediction, acc = sess.run([W1, b1, W2, b2, y, pred_int, accuracy], feed_dict={x: X, y: Y})\n",
    "    print(\"Accuracy:\", acc)\n",
    "    print(\"W_1:\", w1_int)\n",
    "    print(\"b_1:\", b1_int)\n",
    "    print(\"W_2:\", w2_int)\n",
    "    print(\"b_2:\", b2_int)\n",
    "    print(\"Answers   :\", answers)\n",
    "    print(\"Prediction:\", prediction)"
   ]
  },
  {
   "cell_type": "markdown",
   "metadata": {},
   "source": [
    "# 문제 해결 실패. 왜?\n",
    "\n",
    "$Y = W_{2}W_{1}X = W_{3}X$ where $W_{3} = W_{2}W_{1}$"
   ]
  },
  {
   "cell_type": "code",
   "execution_count": 8,
   "metadata": {},
   "outputs": [],
   "source": [
    "g_2_layers_nonlinear = tf.Graph()\n",
    "with g_2_layers_nonlinear.as_default():\n",
    "    x = tf.placeholder(tf.float32, [None, 2])  # 2 features\n",
    "    y = tf.placeholder(tf.int64, [None])  # answers (integers)\n",
    "    W1 = tf.Variable(tf.random_normal(shape=[2, 20]))\n",
    "    b1 = tf.Variable(tf.random_normal(shape=[20]))\n",
    "    hidden_layer1 = tf.nn.relu(tf.nn.xw_plus_b(x, W1, b1))\n",
    "    W2 = tf.Variable(tf.random_normal(shape=[20, 2]))\n",
    "    b2 = tf.Variable(tf.random_normal(shape=[2]))\n",
    "    pred = tf.nn.xw_plus_b(hidden_layer1, W2, b2)\n",
    "    cost = tf.losses.sparse_softmax_cross_entropy(labels=y, logits=pred)\n",
    "    optim = tf.train.GradientDescentOptimizer(learning_rate=0.01).minimize(cost)\n",
    "    pred_int = tf.argmax(pred, 1)\n",
    "    correct_prediction = tf.equal(pred_int, y)\n",
    "    accuracy = tf.reduce_mean(tf.cast(correct_prediction, tf.float32))"
   ]
  },
  {
   "cell_type": "code",
   "execution_count": 9,
   "metadata": {},
   "outputs": [
    {
     "name": "stdout",
     "output_type": "stream",
     "text": [
      "Epoch: 100 cost=0.4795459657907486\n",
      "Epoch: 200 cost=0.28156348317861557\n",
      "Epoch: 300 cost=0.19465352967381477\n",
      "Epoch: 400 cost=0.14544285833835602\n",
      "Epoch: 500 cost=0.11442389898002148\n",
      "Epoch: 600 cost=0.09338454157114029\n",
      "Epoch: 700 cost=0.07832718454301357\n",
      "Epoch: 800 cost=0.0670967698097229\n",
      "Epoch: 900 cost=0.0584457041695714\n",
      "Epoch: 1000 cost=0.05160550866276026\n",
      "Accuracy: 1.0\n",
      "W_1: [[ 1.3795983   2.1196725  -1.031444    0.6590237  -0.7133036   1.6293435\n",
      "  -0.17859463 -1.2823582   0.11292163  0.9048926  -0.12453841  0.33899048\n",
      "  -0.07445721 -1.0890361  -0.7366541   1.1608971   0.7167851   1.2814106\n",
      "   1.2742642  -1.237882  ]\n",
      " [ 0.9444942  -2.016939   -1.2987995  -0.06639153 -1.4266598   0.08220223\n",
      "   0.3192138   0.03741903  0.9193421  -0.05610235  1.9806695  -0.9138289\n",
      "  -1.3278481  -1.1451283   2.3436713  -0.6248531  -0.8409547  -1.1662439\n",
      "   0.30513173  0.13021475]]\n",
      "b_1: [-0.94437385 -0.10258441  0.4727103   0.7784349   1.336149    0.591967\n",
      " -0.8965318   0.2019424   1.4018852   1.0387788  -0.5555863   0.1829287\n",
      " -0.61322606  1.0890603  -1.3293977   0.6249165  -1.3082728   1.7800242\n",
      " -1.0799798   1.2750144 ]\n",
      "W_2: [[ 2.2882295  -0.8951947 ]\n",
      " [-1.9992117   2.5005338 ]\n",
      " [ 0.23162043  0.32671788]\n",
      " [ 1.4185     -0.9472669 ]\n",
      " [ 0.41521546 -0.02960221]\n",
      " [ 0.1353082   0.38814023]\n",
      " [ 0.00708018  0.1145907 ]\n",
      " [-0.08074076 -0.21241298]\n",
      " [-0.8522108   0.36929873]\n",
      " [-0.20173545 -0.07877204]\n",
      " [ 0.1851827   0.7075072 ]\n",
      " [-0.58078635  0.17626722]\n",
      " [-1.5470059   0.9779691 ]\n",
      " [ 0.29460242 -2.793453  ]\n",
      " [ 0.43943524  2.109185  ]\n",
      " [ 1.3779794  -1.3290131 ]\n",
      " [-1.3063153   0.62019783]\n",
      " [ 0.12900092  0.6153051 ]\n",
      " [-0.58002985 -1.1434166 ]\n",
      " [ 0.4611566  -0.27914315]]\n",
      "b_2: [-1.5626049  -0.55641156]\n",
      "Answers   : [0 1 1 0]\n",
      "Prediction: [0 1 1 0]\n"
     ]
    }
   ],
   "source": [
    "N_EPOCHS = 1000\n",
    "\n",
    "with tf.Session(graph=g_2_layers_nonlinear) as sess:\n",
    "    sess.run(tf.global_variables_initializer())\n",
    "\n",
    "    for epoch in range(N_EPOCHS):\n",
    "        epoch_cost = 0.\n",
    "        for _ in range(len(X)):\n",
    "            _, c = sess.run([optim, cost], feed_dict={x: X, y: Y})\n",
    "            epoch_cost += c\n",
    "        if (epoch+1) % (N_EPOCHS // 10) == 0:\n",
    "            print(\"Epoch:\", '%02d' % (epoch+1), \"cost={}\".format(epoch_cost))\n",
    "\n",
    "    w1_int, b1_int, w2_int, b2_int, answers, prediction, acc = sess.run([W1, b1, W2, b2, y, pred_int, accuracy], feed_dict={x: X, y: Y})\n",
    "    print(\"Accuracy:\", acc)\n",
    "    print(\"W_1:\", w1_int)\n",
    "    print(\"b_1:\", b1_int)\n",
    "    print(\"W_2:\", w2_int)\n",
    "    print(\"b_2:\", b2_int)\n",
    "    print(\"Answers   :\", answers)\n",
    "    print(\"Prediction:\", prediction)"
   ]
  },
  {
   "cell_type": "markdown",
   "metadata": {},
   "source": [
    "# 해결!\n",
    "\n",
    "Polynomial 방식이 아니라 linear를 그대로 가져가지만 공간을 뒤틀어서 sample에 적응하는 방식"
   ]
  },
  {
   "cell_type": "code",
   "execution_count": 12,
   "metadata": {},
   "outputs": [
    {
     "data": {
      "text/plain": [
       "Text(0.5,1,'ReLU')"
      ]
     },
     "execution_count": 12,
     "metadata": {},
     "output_type": "execute_result"
    },
    {
     "data": {
      "image/png": "[encoded data removed]",
      "text/plain": [
       "<matplotlib.figure.Figure at 0x22a4313de48>"
      ]
     },
     "metadata": {},
     "output_type": "display_data"
    }
   ],
   "source": [
    "line = np.linspace(-5, 5)\n",
    "relu = line.copy()\n",
    "relu[relu < 0] = 0\n",
    "plt.plot(line, relu)\n",
    "plt.xlabel('x')\n",
    "plt.ylabel('y')\n",
    "plt.title('ReLU')"
   ]
  },
  {
   "cell_type": "code",
   "execution_count": 18,
   "metadata": {},
   "outputs": [
    {
     "data": {
      "text/plain": [
       "Text(0.5,1,'Sigmoid')"
      ]
     },
     "execution_count": 18,
     "metadata": {},
     "output_type": "execute_result"
    },
    {
     "data": {
      "image/png": "[encoded data removed]",
      "text/plain": [
       "<matplotlib.figure.Figure at 0x22a42f60710>"
      ]
     },
     "metadata": {},
     "output_type": "display_data"
    }
   ],
   "source": [
    "import math\n",
    "\n",
    "line = np.linspace(-5, 5)\n",
    "sigmoid = [1 / (1 + math.exp(-x)) for x in line]\n",
    "plt.plot(line, sigmoid)\n",
    "plt.xlabel('x')\n",
    "plt.ylabel('y')\n",
    "plt.title('Sigmoid')"
   ]
  },
  {
   "cell_type": "markdown",
   "metadata": {},
   "source": [
    "# 끗"
   ]
  }
 ],
 "metadata": {
  "kernelspec": {
   "display_name": "Python 3",
   "language": "python",
   "name": "python3"
  },
  "language_info": {
   "codemirror_mode": {
    "name": "ipython",
    "version": 3
   },
   "file_extension": ".py",
   "mimetype": "text/x-python",
   "name": "python",
   "nbconvert_exporter": "python",
   "pygments_lexer": "ipython3",
   "version": "3.6.4"
  }
 },
 "nbformat": 4,
 "nbformat_minor": 2
}
