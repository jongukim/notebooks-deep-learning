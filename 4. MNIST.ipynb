{
 "cells": [
  {
   "cell_type": "code",
   "execution_count": 1,
   "metadata": {},
   "outputs": [],
   "source": [
    "import numpy as np\n",
    "import tensorflow as tf\n",
    "import matplotlib.pyplot as plt\n",
    "\n",
    "plt.rcParams[\"figure.figsize\"] = [8, 4]"
   ]
  },
  {
   "cell_type": "markdown",
   "metadata": {},
   "source": [
    "# [MNIST](http://yann.lecun.com/exdb/mnist/)\n",
    "\n",
    "## hosted by Yann LeCun\n",
    "\n",
    "THE MNIST DATABASE of handwritten digits"
   ]
  },
  {
   "cell_type": "code",
   "execution_count": 2,
   "metadata": {},
   "outputs": [
    {
     "name": "stdout",
     "output_type": "stream",
     "text": [
      "Extracting MNIST-data\\train-images-idx3-ubyte.gz\n",
      "Extracting MNIST-data\\train-labels-idx1-ubyte.gz\n",
      "Extracting MNIST-data\\t10k-images-idx3-ubyte.gz\n",
      "Extracting MNIST-data\\t10k-labels-idx1-ubyte.gz\n"
     ]
    }
   ],
   "source": [
    "mnist = tf.contrib.learn.datasets.load_dataset(\"mnist\")\n",
    "train_data = mnist.train.images\n",
    "train_labels = np.asarray(mnist.train.labels, dtype=np.int32)\n",
    "eval_data = mnist.test.images\n",
    "eval_labels = np.asarray(mnist.test.labels, dtype=np.int32)"
   ]
  },
  {
   "cell_type": "code",
   "execution_count": 16,
   "metadata": {},
   "outputs": [
    {
     "data": {
      "text/plain": [
       "55000"
      ]
     },
     "execution_count": 16,
     "metadata": {},
     "output_type": "execute_result"
    }
   ],
   "source": [
    "mnist.train.num_examples"
   ]
  },
  {
   "cell_type": "code",
   "execution_count": 17,
   "metadata": {},
   "outputs": [
    {
     "data": {
      "text/plain": [
       "10000"
      ]
     },
     "execution_count": 17,
     "metadata": {},
     "output_type": "execute_result"
    }
   ],
   "source": [
    "mnist.test.num_examples"
   ]
  },
  {
   "cell_type": "code",
   "execution_count": 21,
   "metadata": {
    "scrolled": true
   },
   "outputs": [
    {
     "data": {
      "image/png": "[encoded data removed]",
      "text/plain": [
       "<matplotlib.figure.Figure at 0x29e808a1828>"
      ]
     },
     "metadata": {},
     "output_type": "display_data"
    },
    {
     "data": {
      "text/plain": [
       "4"
      ]
     },
     "execution_count": 21,
     "metadata": {},
     "output_type": "execute_result"
    }
   ],
   "source": [
    "plt.imshow(np.reshape(train_data[2], [28, 28]), cmap='gray')\n",
    "plt.show()\n",
    "train_labels[2]"
   ]
  },
  {
   "cell_type": "markdown",
   "metadata": {},
   "source": [
    "- 숫자 이미지 하나의 크기는 $28 \\times 28$\n",
    "- Gray scale"
   ]
  },
  {
   "cell_type": "code",
   "execution_count": 30,
   "metadata": {},
   "outputs": [
    {
     "data": {
      "text/plain": [
       "array([0.        , 0.        , 0.        , 0.        , 0.        ,\n",
       "       0.        , 0.        , 0.        , 0.02352941, 0.76470596,\n",
       "       0.9960785 , 1.        , 0.93725497, 0.1137255 , 0.        ,\n",
       "       0.        , 0.        , 0.        , 0.        , 0.        ],\n",
       "      dtype=float32)"
      ]
     },
     "execution_count": 30,
     "metadata": {},
     "output_type": "execute_result"
    }
   ],
   "source": [
    "train_data[2][170:190]"
   ]
  },
  {
   "cell_type": "code",
   "execution_count": 11,
   "metadata": {},
   "outputs": [],
   "source": [
    "# inspired by CNN model from https://www.tensorflow.org/tutorials/layers\n",
    "\n",
    "def dnn_model_fn(features, labels, mode):\n",
    "    input_layer = features[\"x\"]\n",
    "      \n",
    "    hidden1 = tf.layers.dense(inputs=input_layer, units=1024, activation=tf.nn.relu)\n",
    "    hidden2 = tf.layers.dense(inputs=hidden1, units=512, activation=tf.nn.relu)\n",
    "    hidden3 = tf.layers.dense(inputs=hidden2, units=1024, activation=tf.nn.relu)\n",
    "    logits = tf.layers.dense(inputs=hidden3, units=10)  # activation = None => linear\n",
    "\n",
    "    predictions = {\"classes\": tf.argmax(input=logits, axis=1),\n",
    "                   \"probabilities\": tf.nn.softmax(logits, name=\"softmax_tensor\")}\n",
    "\n",
    "    if mode == tf.estimator.ModeKeys.PREDICT:\n",
    "        return tf.estimator.EstimatorSpec(mode=mode, predictions=predictions)\n",
    "\n",
    "    loss = tf.losses.sparse_softmax_cross_entropy(labels=labels, logits=logits)\n",
    "\n",
    "    if mode == tf.estimator.ModeKeys.TRAIN:\n",
    "        optimizer = tf.train.AdamOptimizer(learning_rate=0.001)\n",
    "        train_op = optimizer.minimize(loss=loss, global_step=tf.train.get_global_step())\n",
    "        return tf.estimator.EstimatorSpec(mode=mode, loss=loss, train_op=train_op)\n",
    "\n",
    "    eval_metric_ops = {\"accuracy\": tf.metrics.accuracy(labels=labels, predictions=predictions[\"classes\"])}\n",
    "    return tf.estimator.EstimatorSpec(mode=mode, loss=loss, eval_metric_ops=eval_metric_ops)"
   ]
  },
  {
   "cell_type": "code",
   "execution_count": 12,
   "metadata": {},
   "outputs": [
    {
     "name": "stdout",
     "output_type": "stream",
     "text": [
      "INFO:tensorflow:Using default config.\n",
      "INFO:tensorflow:Using config: {'_model_dir': 'mnist_dnn_model', '_tf_random_seed': None, '_save_summary_steps': 100, '_save_checkpoints_steps': None, '_save_checkpoints_secs': 600, '_session_config': None, '_keep_checkpoint_max': 5, '_keep_checkpoint_every_n_hours': 10000, '_log_step_count_steps': 100, '_service': None, '_cluster_spec': <tensorflow.python.training.server_lib.ClusterSpec object at 0x0000029E8060E128>, '_task_type': 'worker', '_task_id': 0, '_master': '', '_is_chief': True, '_num_ps_replicas': 0, '_num_worker_replicas': 1}\n"
     ]
    }
   ],
   "source": [
    "mnist_classifier = tf.estimator.Estimator(model_fn=dnn_model_fn, model_dir=\"mnist_dnn_model\")"
   ]
  },
  {
   "cell_type": "code",
   "execution_count": 13,
   "metadata": {},
   "outputs": [
    {
     "name": "stdout",
     "output_type": "stream",
     "text": [
      "INFO:tensorflow:Create CheckpointSaverHook.\n",
      "INFO:tensorflow:Saving checkpoints for 1 into mnist_dnn_model\\model.ckpt.\n",
      "INFO:tensorflow:loss = 2.2974925, step = 1\n",
      "INFO:tensorflow:global_step/sec: 52.9655\n",
      "INFO:tensorflow:loss = 0.33663505, step = 101 (1.889 sec)\n",
      "INFO:tensorflow:global_step/sec: 57.3184\n",
      "INFO:tensorflow:loss = 0.14119, step = 201 (1.745 sec)\n",
      "INFO:tensorflow:global_step/sec: 58.4265\n",
      "INFO:tensorflow:loss = 0.10976124, step = 301 (1.712 sec)\n",
      "INFO:tensorflow:global_step/sec: 58.4196\n",
      "INFO:tensorflow:loss = 0.13133138, step = 401 (1.712 sec)\n",
      "INFO:tensorflow:global_step/sec: 57.1542\n",
      "INFO:tensorflow:loss = 0.078569084, step = 501 (1.751 sec)\n",
      "INFO:tensorflow:global_step/sec: 57.3844\n",
      "INFO:tensorflow:loss = 0.068996586, step = 601 (1.742 sec)\n",
      "INFO:tensorflow:global_step/sec: 58.3923\n",
      "INFO:tensorflow:loss = 0.09850408, step = 701 (1.713 sec)\n",
      "INFO:tensorflow:global_step/sec: 57.4836\n",
      "INFO:tensorflow:loss = 0.0218405, step = 801 (1.740 sec)\n",
      "INFO:tensorflow:global_step/sec: 57.0888\n",
      "INFO:tensorflow:loss = 0.024737576, step = 901 (1.752 sec)\n",
      "INFO:tensorflow:global_step/sec: 57.7499\n",
      "INFO:tensorflow:loss = 0.011238704, step = 1001 (1.732 sec)\n",
      "INFO:tensorflow:global_step/sec: 56.4426\n",
      "INFO:tensorflow:loss = 0.07467919, step = 1101 (1.772 sec)\n",
      "INFO:tensorflow:global_step/sec: 56.6993\n",
      "INFO:tensorflow:loss = 0.16276625, step = 1201 (1.764 sec)\n",
      "INFO:tensorflow:global_step/sec: 54.6488\n",
      "INFO:tensorflow:loss = 0.11941426, step = 1301 (1.830 sec)\n",
      "INFO:tensorflow:global_step/sec: 56.8609\n",
      "INFO:tensorflow:loss = 0.06037629, step = 1401 (1.759 sec)\n",
      "INFO:tensorflow:global_step/sec: 57.0888\n",
      "INFO:tensorflow:loss = 0.006808926, step = 1501 (1.752 sec)\n",
      "INFO:tensorflow:global_step/sec: 54.1738\n",
      "INFO:tensorflow:loss = 0.022832552, step = 1601 (1.847 sec)\n",
      "INFO:tensorflow:global_step/sec: 56.0619\n",
      "INFO:tensorflow:loss = 0.049162965, step = 1701 (1.783 sec)\n",
      "INFO:tensorflow:global_step/sec: 58.2559\n",
      "INFO:tensorflow:loss = 0.05152371, step = 1801 (1.717 sec)\n",
      "INFO:tensorflow:global_step/sec: 58.5294\n",
      "INFO:tensorflow:loss = 0.009835209, step = 1901 (1.709 sec)\n",
      "INFO:tensorflow:Saving checkpoints for 2000 into mnist_dnn_model\\model.ckpt.\n",
      "INFO:tensorflow:\n",
      "INFO:tensorflow:Loss for final step: 0.15955198.\n"
     ]
    },
    {
     "data": {
      "text/plain": [
       "<tensorflow.python.estimator.estimator.Estimator at 0x29e80611ef0>"
      ]
     },
     "execution_count": 13,
     "metadata": {},
     "output_type": "execute_result"
    }
   ],
   "source": [
    "logging_hook = tf.train.LoggingTensorHook(tensors={}, at_end=True)\n",
    "\n",
    "train_input_fn = tf.estimator.inputs.numpy_input_fn(x={\"x\": train_data},\n",
    "                                                    y=train_labels,\n",
    "                                                    batch_size=100,\n",
    "                                                    num_epochs=None,\n",
    "                                                    shuffle=True)\n",
    "mnist_classifier.train(input_fn=train_input_fn,\n",
    "                       steps=2000,\n",
    "                       hooks=[logging_hook])"
   ]
  },
  {
   "cell_type": "code",
   "execution_count": 14,
   "metadata": {},
   "outputs": [
    {
     "name": "stdout",
     "output_type": "stream",
     "text": [
      "INFO:tensorflow:Starting evaluation at 2018-02-20-05:14:07\n",
      "INFO:tensorflow:Restoring parameters from mnist_dnn_model\\model.ckpt-2000\n",
      "INFO:tensorflow:Finished evaluation at 2018-02-20-05:14:08\n",
      "INFO:tensorflow:Saving dict for global step 2000: accuracy = 0.9707, global_step = 2000, loss = 0.102792345\n"
     ]
    },
    {
     "data": {
      "text/plain": [
       "{'accuracy': 0.9707, 'global_step': 2000, 'loss': 0.102792345}"
      ]
     },
     "execution_count": 14,
     "metadata": {},
     "output_type": "execute_result"
    }
   ],
   "source": [
    "eval_input_fn = tf.estimator.inputs.numpy_input_fn(x={\"x\": eval_data},\n",
    "                                                   y=eval_labels,\n",
    "                                                   num_epochs=1,\n",
    "                                                   shuffle=False)\n",
    "mnist_classifier.evaluate(input_fn=eval_input_fn)"
   ]
  },
  {
   "cell_type": "code",
   "execution_count": 15,
   "metadata": {},
   "outputs": [
    {
     "name": "stdout",
     "output_type": "stream",
     "text": [
      "INFO:tensorflow:Restoring parameters from mnist_dnn_model\\model.ckpt-2000\n"
     ]
    },
    {
     "data": {
      "image/png": "[encoded data removed]",
      "text/plain": [
       "<matplotlib.figure.Figure at 0x29e809b54e0>"
      ]
     },
     "metadata": {},
     "output_type": "display_data"
    },
    {
     "name": "stdout",
     "output_type": "stream",
     "text": [
      "Model prediction: {'classes': 5, 'probabilities': array([7.2970062e-16, 6.8497508e-13, 5.0366680e-15, 2.0861239e-07,\n",
      "       3.8190886e-14, 9.9999976e-01, 1.5875076e-12, 9.7814359e-16,\n",
      "       1.0813485e-11, 3.8759623e-10], dtype=float32)}\n"
     ]
    },
    {
     "data": {
      "image/png": "[encoded data removed]",
      "text/plain": [
       "<matplotlib.figure.Figure at 0x29efaec7c50>"
      ]
     },
     "metadata": {},
     "output_type": "display_data"
    },
    {
     "name": "stdout",
     "output_type": "stream",
     "text": [
      "Model prediction: {'classes': 6, 'probabilities': array([1.9027572e-04, 2.9293931e-05, 2.1855960e-05, 1.3701654e-05,\n",
      "       3.0326017e-04, 1.0344718e-02, 9.8853743e-01, 4.4395600e-07,\n",
      "       5.5391056e-04, 5.2106639e-06], dtype=float32)}\n"
     ]
    },
    {
     "data": {
      "image/png": "[encoded data removed]",
      "text/plain": [
       "<matplotlib.figure.Figure at 0x29e808c3860>"
      ]
     },
     "metadata": {},
     "output_type": "display_data"
    },
    {
     "name": "stdout",
     "output_type": "stream",
     "text": [
      "Model prediction: {'classes': 8, 'probabilities': array([9.2467316e-04, 1.6559949e-04, 1.4983612e-03, 8.5427528e-03,\n",
      "       6.3331593e-03, 4.3553405e-02, 1.2978340e-03, 5.1669439e-04,\n",
      "       8.8014513e-01, 5.7022456e-02], dtype=float32)}\n"
     ]
    }
   ],
   "source": [
    "test_images = eval_data[np.random.choice(mnist.test.num_examples, 3)]\n",
    "input_fn = tf.estimator.inputs.numpy_input_fn(x={'x': test_images}, shuffle=False)\n",
    "preds = list(mnist_classifier.predict(input_fn))\n",
    "\n",
    "for i in range(3):\n",
    "    plt.imshow(np.reshape(test_images[i], [28, 28]), cmap='gray')\n",
    "    plt.show()\n",
    "    print(\"Model prediction:\", preds[i])"
   ]
  }
 ],
 "metadata": {
  "kernelspec": {
   "display_name": "Python 3",
   "language": "python",
   "name": "python3"
  },
  "language_info": {
   "codemirror_mode": {
    "name": "ipython",
    "version": 3
   },
   "file_extension": ".py",
   "mimetype": "text/x-python",
   "name": "python",
   "nbconvert_exporter": "python",
   "pygments_lexer": "ipython3",
   "version": "3.6.4"
  }
 },
 "nbformat": 4,
 "nbformat_minor": 2
}
