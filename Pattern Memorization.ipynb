{
 "cells": [
  {
   "cell_type": "code",
   "execution_count": 1,
   "metadata": {},
   "outputs": [],
   "source": [
    "import numpy as np\n",
    "import tensorflow as tf\n",
    "import matplotlib.pyplot as plt"
   ]
  },
  {
   "cell_type": "code",
   "execution_count": 2,
   "metadata": {},
   "outputs": [
    {
     "name": "stdout",
     "output_type": "stream",
     "text": [
      "Extracting MNIST-data\\train-images-idx3-ubyte.gz\n",
      "Extracting MNIST-data\\train-labels-idx1-ubyte.gz\n",
      "Extracting MNIST-data\\t10k-images-idx3-ubyte.gz\n",
      "Extracting MNIST-data\\t10k-labels-idx1-ubyte.gz\n"
     ]
    }
   ],
   "source": [
    "mnist = tf.contrib.learn.datasets.load_dataset(\"mnist\")\n",
    "train_data = mnist.train.images  # Returns np.array\n",
    "train_labels = np.asarray(mnist.train.labels, dtype=np.int32)\n",
    "eval_data = mnist.test.images  # Returns np.array\n",
    "eval_labels = np.asarray(mnist.test.labels, dtype=np.int32)"
   ]
  },
  {
   "cell_type": "code",
   "execution_count": 3,
   "metadata": {},
   "outputs": [],
   "source": [
    "BATCH_SIZE = 512\n",
    "RNN_HIDDEN_SIZE = 128"
   ]
  },
  {
   "cell_type": "code",
   "execution_count": 4,
   "metadata": {},
   "outputs": [],
   "source": [
    "def model_fn(features, labels, mode):\n",
    "    # input_layer = tf.reshape(features[\"x\"], [-1, 784, 1])\n",
    "\n",
    "    # rnn_cell = tf.nn.rnn_cell.LSTMCell(RNN_HIDDEN_SIZE)\n",
    "    # initial_state = rnn_cell.zero_state(batch_size=BATCH_SIZE, dtype=tf.float32)\n",
    "    # _, state = tf.nn.dynamic_rnn(rnn_cell, input_layer, initial_state=initial_state, dtype=tf.float32)\n",
    "    \n",
    "    # dense1 = tf.layers.dense(inputs=tf.reshape(state, [-1, RNN_HIDDEN_SIZE * 2]), units=512, activation=tf.nn.relu)\n",
    "    # dense2 = tf.layers.dense(inputs=dense1, units=1024, activation=tf.nn.relu)\n",
    "    \n",
    "    input_layer = tf.reshape(features['x'], [-1, 28, 28, 1])\n",
    "    conv1 = tf.layers.conv2d(inputs=input_layer,\n",
    "                             filters=32,\n",
    "                             kernel_size=[5, 5],\n",
    "                             padding=\"same\",\n",
    "                             activation=tf.nn.relu)\n",
    "    pool1 = tf.layers.max_pooling2d(inputs=conv1, pool_size=[2, 2], strides=2)\n",
    "\n",
    "    conv2 = tf.layers.conv2d(inputs=pool1,\n",
    "                             filters=64,\n",
    "                             kernel_size=[5, 5],\n",
    "                             padding=\"same\",\n",
    "                             activation=tf.nn.relu)\n",
    "    pool2 = tf.layers.max_pooling2d(inputs=conv2, pool_size=[2, 2], strides=2)\n",
    "\n",
    "    pool2_flat = tf.reshape(pool2, [-1, 7 * 7 * 64])\n",
    "    dense = tf.layers.dense(inputs=pool2_flat, units=1024, activation=tf.nn.relu)\n",
    "    \n",
    "    predictions = tf.layers.dense(inputs=dense, units=784)\n",
    "    \n",
    "    if mode == tf.estimator.ModeKeys.PREDICT:\n",
    "        return tf.estimator.EstimatorSpec(mode=mode, predictions=predictions)\n",
    "\n",
    "    loss = tf.losses.mean_squared_error(labels=labels, predictions=predictions)\n",
    "\n",
    "    if mode == tf.estimator.ModeKeys.TRAIN:\n",
    "        optimizer = tf.train.AdamOptimizer(learning_rate=0.001)\n",
    "        train_op = optimizer.minimize(loss=loss, global_step=tf.train.get_global_step())\n",
    "        return tf.estimator.EstimatorSpec(mode=mode, loss=loss, train_op=train_op)\n",
    "\n",
    "    eval_metric_ops = {'distance': tf.metrics.mean_squared_error(labels=labels, predictions=predictions)}\n",
    "    return tf.estimator.EstimatorSpec(mode=mode, loss=loss, eval_metric_ops=eval_metric_ops)"
   ]
  },
  {
   "cell_type": "code",
   "execution_count": 5,
   "metadata": {},
   "outputs": [
    {
     "name": "stdout",
     "output_type": "stream",
     "text": [
      "INFO:tensorflow:Using default config.\n",
      "INFO:tensorflow:Using config: {'_model_dir': 'pattern_memorization_model', '_tf_random_seed': None, '_save_summary_steps': 100, '_save_checkpoints_steps': None, '_save_checkpoints_secs': 600, '_session_config': None, '_keep_checkpoint_max': 5, '_keep_checkpoint_every_n_hours': 10000, '_log_step_count_steps': 100, '_service': None, '_cluster_spec': <tensorflow.python.training.server_lib.ClusterSpec object at 0x000001C8634C3FD0>, '_task_type': 'worker', '_task_id': 0, '_master': '', '_is_chief': True, '_num_ps_replicas': 0, '_num_worker_replicas': 1}\n"
     ]
    }
   ],
   "source": [
    "est = tf.estimator.Estimator(model_fn=model_fn, model_dir='pattern_memorization_model')"
   ]
  },
  {
   "cell_type": "code",
   "execution_count": 6,
   "metadata": {
    "scrolled": false
   },
   "outputs": [
    {
     "name": "stdout",
     "output_type": "stream",
     "text": [
      "INFO:tensorflow:Create CheckpointSaverHook.\n",
      "INFO:tensorflow:Saving checkpoints for 1 into pattern_memorization_model\\model.ckpt.\n",
      "INFO:tensorflow:loss = 0.10354628, step = 1\n",
      "INFO:tensorflow:global_step/sec: 1.35332\n",
      "INFO:tensorflow:loss = 0.019295743, step = 101 (73.895 sec)\n",
      "INFO:tensorflow:global_step/sec: 1.34168\n",
      "INFO:tensorflow:loss = 0.012266307, step = 201 (74.536 sec)\n",
      "INFO:tensorflow:global_step/sec: 1.35405\n",
      "INFO:tensorflow:loss = 0.009925769, step = 301 (73.848 sec)\n",
      "INFO:tensorflow:global_step/sec: 1.35258\n",
      "INFO:tensorflow:loss = 0.008789191, step = 401 (73.938 sec)\n",
      "INFO:tensorflow:global_step/sec: 1.35551\n",
      "INFO:tensorflow:loss = 0.007772667, step = 501 (73.768 sec)\n",
      "INFO:tensorflow:global_step/sec: 1.31098\n",
      "INFO:tensorflow:loss = 0.007206575, step = 601 (76.283 sec)\n",
      "INFO:tensorflow:global_step/sec: 1.3112\n",
      "INFO:tensorflow:loss = 0.006461023, step = 701 (76.262 sec)\n",
      "INFO:tensorflow:global_step/sec: 1.31888\n",
      "INFO:tensorflow:loss = 0.0060463473, step = 801 (75.831 sec)\n",
      "INFO:tensorflow:Saving checkpoints for 803 into pattern_memorization_model\\model.ckpt.\n",
      "INFO:tensorflow:global_step/sec: 1.33461\n",
      "INFO:tensorflow:loss = 0.005812415, step = 901 (74.919 sec)\n",
      "INFO:tensorflow:global_step/sec: 1.3392\n",
      "INFO:tensorflow:loss = 0.0055659995, step = 1001 (74.676 sec)\n",
      "INFO:tensorflow:global_step/sec: 1.35319\n",
      "INFO:tensorflow:loss = 0.0052360254, step = 1101 (73.896 sec)\n",
      "INFO:tensorflow:global_step/sec: 1.3537\n",
      "INFO:tensorflow:loss = 0.0050403792, step = 1201 (73.876 sec)\n",
      "INFO:tensorflow:global_step/sec: 1.35185\n",
      "INFO:tensorflow:loss = 0.004973385, step = 1301 (73.968 sec)\n",
      "INFO:tensorflow:global_step/sec: 1.31987\n",
      "INFO:tensorflow:loss = 0.004751675, step = 1401 (75.770 sec)\n",
      "INFO:tensorflow:global_step/sec: 1.33411\n",
      "INFO:tensorflow:loss = 0.0046111997, step = 1501 (74.951 sec)\n",
      "INFO:tensorflow:global_step/sec: 1.34023\n",
      "INFO:tensorflow:loss = 0.004280839, step = 1601 (74.619 sec)\n",
      "INFO:tensorflow:Saving checkpoints for 1608 into pattern_memorization_model\\model.ckpt.\n",
      "INFO:tensorflow:global_step/sec: 1.34148\n",
      "INFO:tensorflow:loss = 0.0040777395, step = 1701 (74.539 sec)\n",
      "INFO:tensorflow:global_step/sec: 1.357\n",
      "INFO:tensorflow:loss = 0.004509286, step = 1801 (73.708 sec)\n",
      "INFO:tensorflow:global_step/sec: 1.34004\n",
      "INFO:tensorflow:loss = 0.003914873, step = 1901 (74.609 sec)\n",
      "INFO:tensorflow:Saving checkpoints for 2000 into pattern_memorization_model\\model.ckpt.\n",
      "INFO:tensorflow:\n",
      "INFO:tensorflow:Loss for final step: 0.00380629.\n"
     ]
    },
    {
     "data": {
      "text/plain": [
       "<tensorflow.python.estimator.estimator.Estimator at 0x1deb5c19d30>"
      ]
     },
     "execution_count": 6,
     "metadata": {},
     "output_type": "execute_result"
    }
   ],
   "source": [
    "logging_hook = tf.train.LoggingTensorHook(tensors={}, at_end=True)\n",
    "\n",
    "train_input_fn = tf.estimator.inputs.numpy_input_fn(x={\"x\": train_data},\n",
    "                                                    y=train_data,\n",
    "                                                    batch_size=BATCH_SIZE,\n",
    "                                                    num_epochs=None,\n",
    "                                                    shuffle=True)\n",
    "est.train(input_fn=train_input_fn, steps=2000, hooks=[logging_hook])"
   ]
  },
  {
   "cell_type": "code",
   "execution_count": 6,
   "metadata": {},
   "outputs": [
    {
     "name": "stdout",
     "output_type": "stream",
     "text": [
      "INFO:tensorflow:Starting evaluation at 2018-02-21-00:53:52\n",
      "INFO:tensorflow:Restoring parameters from pattern_memorization_model\\model.ckpt-2000\n",
      "INFO:tensorflow:Finished evaluation at 2018-02-21-00:53:58\n",
      "INFO:tensorflow:Saving dict for global step 2000: distance = 0.0039646816, global_step = 2000, loss = 0.003966247\n"
     ]
    },
    {
     "data": {
      "text/plain": [
       "{'distance': 0.0039646816, 'global_step': 2000, 'loss': 0.003966247}"
      ]
     },
     "execution_count": 6,
     "metadata": {},
     "output_type": "execute_result"
    }
   ],
   "source": [
    "eval_input_fn = tf.estimator.inputs.numpy_input_fn(x={\"x\": eval_data},\n",
    "                                                   y=eval_data,\n",
    "                                                   num_epochs=1,\n",
    "                                                   shuffle=False)\n",
    "est.evaluate(input_fn=eval_input_fn)"
   ]
  },
  {
   "cell_type": "code",
   "execution_count": 9,
   "metadata": {},
   "outputs": [
    {
     "name": "stdout",
     "output_type": "stream",
     "text": [
      "INFO:tensorflow:Restoring parameters from pattern_memorization_model\\model.ckpt-2000\n"
     ]
    }
   ],
   "source": [
    "test_images = eval_data[np.random.choice(mnist.test.num_examples, 3)]\n",
    "input_fn = tf.estimator.inputs.numpy_input_fn(x={'x': test_images}, shuffle=False)\n",
    "preds = list(est.predict(input_fn))"
   ]
  },
  {
   "cell_type": "code",
   "execution_count": 15,
   "metadata": {},
   "outputs": [
    {
     "data": {
      "image/png": "[encoded data removed]",
      "text/plain": [
       "<matplotlib.figure.Figure at 0x1c867183dd8>"
      ]
     },
     "metadata": {},
     "output_type": "display_data"
    },
    {
     "data": {
      "image/png": "[encoded data removed]",
      "text/plain": [
       "<matplotlib.figure.Figure at 0x1c866839588>"
      ]
     },
     "metadata": {},
     "output_type": "display_data"
    },
    {
     "data": {
      "image/png": "[encoded data removed]",
      "text/plain": [
       "<matplotlib.figure.Figure at 0x1c865900c18>"
      ]
     },
     "metadata": {},
     "output_type": "display_data"
    }
   ],
   "source": [
    "plt.rcParams[\"figure.figsize\"] = [13, 6]\n",
    "\n",
    "for i in range(3):\n",
    "    plt.subplot(1, 2, 1)\n",
    "    plt.imshow(np.reshape(test_images[i], [28, 28]), cmap='gray')\n",
    "    plt.subplot(1, 2, 2)\n",
    "    plt.imshow(np.reshape(preds[i], [28, 28]), cmap='gray')\n",
    "    plt.show()"
   ]
  },
  {
   "cell_type": "markdown",
   "metadata": {},
   "source": [
    "# 끗"
   ]
  }
 ],
 "metadata": {
  "kernelspec": {
   "display_name": "Python 3",
   "language": "python",
   "name": "python3"
  },
  "language_info": {
   "codemirror_mode": {
    "name": "ipython",
    "version": 3
   },
   "file_extension": ".py",
   "mimetype": "text/x-python",
   "name": "python",
   "nbconvert_exporter": "python",
   "pygments_lexer": "ipython3",
   "version": "3.6.4"
  }
 },
 "nbformat": 4,
 "nbformat_minor": 2
}
