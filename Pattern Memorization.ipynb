{
 "cells": [
  {
   "cell_type": "code",
   "execution_count": 2,
   "metadata": {},
   "outputs": [],
   "source": [
    "import numpy as np\n",
    "import tensorflow as tf\n",
    "import matplotlib.pyplot as plt"
   ]
  },
  {
   "cell_type": "code",
   "execution_count": 3,
   "metadata": {},
   "outputs": [
    {
     "name": "stdout",
     "output_type": "stream",
     "text": [
      "Extracting MNIST-data\\train-images-idx3-ubyte.gz\n",
      "Extracting MNIST-data\\train-labels-idx1-ubyte.gz\n",
      "Extracting MNIST-data\\t10k-images-idx3-ubyte.gz\n",
      "Extracting MNIST-data\\t10k-labels-idx1-ubyte.gz\n"
     ]
    }
   ],
   "source": [
    "mnist = tf.contrib.learn.datasets.load_dataset(\"mnist\")\n",
    "train_data = mnist.train.images  # Returns np.array\n",
    "train_labels = np.asarray(mnist.train.labels, dtype=np.int32)\n",
    "eval_data = mnist.test.images  # Returns np.array\n",
    "eval_labels = np.asarray(mnist.test.labels, dtype=np.int32)"
   ]
  },
  {
   "cell_type": "code",
   "execution_count": 4,
   "metadata": {},
   "outputs": [],
   "source": [
    "BATCH_SIZE = 512\n",
    "RNN_HIDDEN_SIZE = 128"
   ]
  },
  {
   "cell_type": "code",
   "execution_count": 5,
   "metadata": {},
   "outputs": [],
   "source": [
    "def model_fn(features, labels, mode):\n",
    "    # input_layer = tf.reshape(features[\"x\"], [-1, 784, 1])\n",
    "\n",
    "    # rnn_cell = tf.nn.rnn_cell.LSTMCell(RNN_HIDDEN_SIZE)\n",
    "    # initial_state = rnn_cell.zero_state(batch_size=BATCH_SIZE, dtype=tf.float32)\n",
    "    # _, state = tf.nn.dynamic_rnn(rnn_cell, input_layer, initial_state=initial_state, dtype=tf.float32)\n",
    "    \n",
    "    # dense1 = tf.layers.dense(inputs=tf.reshape(state, [-1, RNN_HIDDEN_SIZE * 2]), units=512, activation=tf.nn.relu)\n",
    "    # dense2 = tf.layers.dense(inputs=dense1, units=1024, activation=tf.nn.relu)\n",
    "    \n",
    "    input_layer = tf.reshape(features['x'], [-1, 28, 28, 1])\n",
    "    conv1 = tf.layers.conv2d(inputs=input_layer,\n",
    "                             filters=32,\n",
    "                             kernel_size=[5, 5],\n",
    "                             padding=\"same\",\n",
    "                             activation=tf.nn.relu)\n",
    "    pool1 = tf.layers.max_pooling2d(inputs=conv1, pool_size=[2, 2], strides=2)\n",
    "\n",
    "    conv2 = tf.layers.conv2d(inputs=pool1,\n",
    "                             filters=64,\n",
    "                             kernel_size=[5, 5],\n",
    "                             padding=\"same\",\n",
    "                             activation=tf.nn.relu)\n",
    "    pool2 = tf.layers.max_pooling2d(inputs=conv2, pool_size=[2, 2], strides=2)\n",
    "\n",
    "    pool2_flat = tf.reshape(pool2, [-1, 7 * 7 * 64])\n",
    "    dense = tf.layers.dense(inputs=pool2_flat, units=1024, activation=tf.nn.relu)\n",
    "    \n",
    "    predictions = tf.layers.dense(inputs=dense, units=784)\n",
    "    \n",
    "    if mode == tf.estimator.ModeKeys.PREDICT:\n",
    "        return tf.estimator.EstimatorSpec(mode=mode, predictions=predictions)\n",
    "\n",
    "    loss = tf.losses.mean_squared_error(labels=labels, predictions=predictions)\n",
    "\n",
    "    if mode == tf.estimator.ModeKeys.TRAIN:\n",
    "        optimizer = tf.train.AdamOptimizer(learning_rate=0.001)\n",
    "        train_op = optimizer.minimize(loss=loss, global_step=tf.train.get_global_step())\n",
    "        return tf.estimator.EstimatorSpec(mode=mode, loss=loss, train_op=train_op)\n",
    "\n",
    "    eval_metric_ops = {'distance': tf.metrics.mean_squared_error(labels=labels, predictions=predictions)}\n",
    "    return tf.estimator.EstimatorSpec(mode=mode, loss=loss, eval_metric_ops=eval_metric_ops)"
   ]
  },
  {
   "cell_type": "code",
   "execution_count": 6,
   "metadata": {},
   "outputs": [
    {
     "name": "stdout",
     "output_type": "stream",
     "text": [
      "INFO:tensorflow:Using default config.\n",
      "INFO:tensorflow:Using config: {'_model_dir': 'pattern_memorization_model', '_tf_random_seed': None, '_save_summary_steps': 100, '_save_checkpoints_steps': None, '_save_checkpoints_secs': 600, '_session_config': None, '_keep_checkpoint_max': 5, '_keep_checkpoint_every_n_hours': 10000, '_log_step_count_steps': 100, '_service': None, '_cluster_spec': <tensorflow.python.training.server_lib.ClusterSpec object at 0x000001ECCB871FD0>, '_task_type': 'worker', '_task_id': 0, '_global_id_in_cluster': 0, '_master': '', '_evaluation_master': '', '_is_chief': True, '_num_ps_replicas': 0, '_num_worker_replicas': 1}\n"
     ]
    }
   ],
   "source": [
    "est = tf.estimator.Estimator(model_fn=model_fn, model_dir='pattern_memorization_model')"
   ]
  },
  {
   "cell_type": "code",
   "execution_count": null,
   "metadata": {
    "scrolled": false
   },
   "outputs": [],
   "source": [
    "logging_hook = tf.train.LoggingTensorHook(tensors={}, at_end=True)\n",
    "\n",
    "train_input_fn = tf.estimator.inputs.numpy_input_fn(x={\"x\": train_data},\n",
    "                                                    y=train_data,\n",
    "                                                    batch_size=BATCH_SIZE,\n",
    "                                                    num_epochs=None,\n",
    "                                                    shuffle=True)\n",
    "est.train(input_fn=train_input_fn, steps=2000, hooks=[logging_hook])"
   ]
  },
  {
   "cell_type": "code",
   "execution_count": 8,
   "metadata": {},
   "outputs": [
    {
     "name": "stdout",
     "output_type": "stream",
     "text": [
      "INFO:tensorflow:Calling model_fn.\n",
      "INFO:tensorflow:Done calling model_fn.\n",
      "INFO:tensorflow:Starting evaluation at 2018-03-08-07:09:59\n",
      "INFO:tensorflow:Graph was finalized.\n",
      "INFO:tensorflow:Restoring parameters from pattern_memorization_model\\model.ckpt-2001\n",
      "INFO:tensorflow:Running local_init_op.\n",
      "INFO:tensorflow:Done running local_init_op.\n",
      "INFO:tensorflow:Finished evaluation at 2018-03-08-07:10:00\n",
      "INFO:tensorflow:Saving dict for global step 2001: distance = 0.0041406923, global_step = 2001, loss = 0.0041421107\n"
     ]
    },
    {
     "data": {
      "text/plain": [
       "{'distance': 0.0041406923, 'global_step': 2001, 'loss': 0.0041421107}"
      ]
     },
     "execution_count": 8,
     "metadata": {},
     "output_type": "execute_result"
    }
   ],
   "source": [
    "eval_input_fn = tf.estimator.inputs.numpy_input_fn(x={\"x\": eval_data},\n",
    "                                                   y=eval_data,\n",
    "                                                   num_epochs=1,\n",
    "                                                   shuffle=False)\n",
    "est.evaluate(input_fn=eval_input_fn)"
   ]
  },
  {
   "cell_type": "code",
   "execution_count": 9,
   "metadata": {},
   "outputs": [
    {
     "name": "stdout",
     "output_type": "stream",
     "text": [
      "INFO:tensorflow:Calling model_fn.\n",
      "INFO:tensorflow:Done calling model_fn.\n",
      "INFO:tensorflow:Graph was finalized.\n",
      "INFO:tensorflow:Restoring parameters from pattern_memorization_model\\model.ckpt-2001\n",
      "INFO:tensorflow:Running local_init_op.\n",
      "INFO:tensorflow:Done running local_init_op.\n"
     ]
    }
   ],
   "source": [
    "test_images = eval_data[np.random.choice(mnist.test.num_examples, 3)]\n",
    "input_fn = tf.estimator.inputs.numpy_input_fn(x={'x': test_images}, shuffle=False)\n",
    "preds = list(est.predict(input_fn))"
   ]
  },
  {
   "cell_type": "code",
   "execution_count": 10,
   "metadata": {},
   "outputs": [
    {
     "data": {
      "image/png": "[encoded data removed]",
      "text/plain": [
       "<matplotlib.figure.Figure at 0x1ee6a4b2240>"
      ]
     },
     "metadata": {},
     "output_type": "display_data"
    },
    {
     "data": {
      "image/png": "[encoded data removed]",
      "text/plain": [
       "<matplotlib.figure.Figure at 0x1ecfb241160>"
      ]
     },
     "metadata": {},
     "output_type": "display_data"
    },
    {
     "data": {
      "image/png": "[encoded data removed]",
      "text/plain": [
       "<matplotlib.figure.Figure at 0x1ee6a2a09b0>"
      ]
     },
     "metadata": {},
     "output_type": "display_data"
    }
   ],
   "source": [
    "plt.rcParams[\"figure.figsize\"] = [13, 6]\n",
    "\n",
    "for i in range(3):\n",
    "    plt.subplot(1, 2, 1)\n",
    "    plt.imshow(np.reshape(test_images[i], [28, 28]), cmap='gray')\n",
    "    plt.subplot(1, 2, 2)\n",
    "    plt.imshow(np.reshape(preds[i], [28, 28]), cmap='gray')\n",
    "    plt.show()"
   ]
  },
  {
   "cell_type": "code",
   "execution_count": 38,
   "metadata": {},
   "outputs": [
    {
     "data": {
      "text/plain": [
       "array([[0.0000000e+00, 1.0000000e+00, 0.0000000e+00, 0.0000000e+00,\n",
       "        0.0000000e+00, 0.0000000e+00, 7.0362359e-01, 0.0000000e+00,\n",
       "        0.0000000e+00, 0.0000000e+00, 7.3563862e-01, 4.9851304e-01,\n",
       "        0.0000000e+00, 0.0000000e+00, 0.0000000e+00, 6.0358524e-01,\n",
       "        0.0000000e+00, 1.0000000e+00, 4.6762288e-01, 1.1014733e-01,\n",
       "        9.5784771e-01, 8.4708333e-01, 5.5154389e-01, 0.0000000e+00,\n",
       "        0.0000000e+00, 0.0000000e+00, 0.0000000e+00, 0.0000000e+00],\n",
       "       [4.2181920e-02, 0.0000000e+00, 1.0000000e+00, 0.0000000e+00,\n",
       "        2.4159828e-01, 1.0000000e+00, 0.0000000e+00, 0.0000000e+00,\n",
       "        0.0000000e+00, 1.0000000e+00, 0.0000000e+00, 2.2980547e-01,\n",
       "        0.0000000e+00, 4.2563581e-01, 0.0000000e+00, 5.5309251e-02,\n",
       "        4.6681657e-01, 8.7859279e-01, 0.0000000e+00, 0.0000000e+00,\n",
       "        0.0000000e+00, 0.0000000e+00, 9.3483454e-01, 0.0000000e+00,\n",
       "        0.0000000e+00, 4.5324823e-01, 1.0000000e+00, 6.3102686e-01],\n",
       "       [0.0000000e+00, 7.8596987e-02, 0.0000000e+00, 0.0000000e+00,\n",
       "        7.7477145e-01, 4.4103682e-01, 0.0000000e+00, 1.0000000e+00,\n",
       "        0.0000000e+00, 0.0000000e+00, 0.0000000e+00, 3.8827706e-02,\n",
       "        7.9716164e-01, 1.0000000e+00, 0.0000000e+00, 0.0000000e+00,\n",
       "        0.0000000e+00, 5.1709616e-01, 8.2278557e-02, 1.0000000e+00,\n",
       "        0.0000000e+00, 9.4780958e-01, 0.0000000e+00, 0.0000000e+00,\n",
       "        1.0000000e+00, 2.2772704e-01, 4.9420008e-01, 8.1722267e-02],\n",
       "       [1.3630734e-01, 0.0000000e+00, 1.0000000e+00, 1.9288525e-02,\n",
       "        0.0000000e+00, 1.0000000e+00, 1.0000000e+00, 5.2118862e-01,\n",
       "        4.4156164e-01, 0.0000000e+00, 0.0000000e+00, 1.0000000e+00,\n",
       "        1.8572594e-01, 1.0000000e+00, 0.0000000e+00, 0.0000000e+00,\n",
       "        1.0000000e+00, 0.0000000e+00, 1.0000000e+00, 3.1806555e-01,\n",
       "        5.2436465e-01, 0.0000000e+00, 0.0000000e+00, 0.0000000e+00,\n",
       "        1.0000000e+00, 3.8227317e-01, 4.8334250e-01, 1.4103881e-01],\n",
       "       [7.7871686e-01, 1.0000000e+00, 0.0000000e+00, 6.2057376e-01,\n",
       "        9.7775722e-01, 9.8608387e-01, 0.0000000e+00, 2.5438255e-01,\n",
       "        4.1406775e-01, 0.0000000e+00, 1.0000000e+00, 0.0000000e+00,\n",
       "        1.0000000e+00, 2.8727392e-02, 1.0000000e+00, 0.0000000e+00,\n",
       "        0.0000000e+00, 3.8151589e-01, 0.0000000e+00, 0.0000000e+00,\n",
       "        9.5748746e-01, 0.0000000e+00, 0.0000000e+00, 1.0488194e-01,\n",
       "        5.7185751e-01, 0.0000000e+00, 9.0377766e-01, 0.0000000e+00],\n",
       "       [9.5002240e-01, 0.0000000e+00, 0.0000000e+00, 0.0000000e+00,\n",
       "        4.3378592e-01, 0.0000000e+00, 1.0000000e+00, 0.0000000e+00,\n",
       "        0.0000000e+00, 1.0000000e+00, 1.0000000e+00, 2.7968386e-02,\n",
       "        1.0000000e+00, 0.0000000e+00, 0.0000000e+00, 3.8598084e-01,\n",
       "        9.5740831e-01, 0.0000000e+00, 0.0000000e+00, 0.0000000e+00,\n",
       "        0.0000000e+00, 0.0000000e+00, 8.8506803e-02, 1.0000000e+00,\n",
       "        2.7987409e-01, 0.0000000e+00, 0.0000000e+00, 1.0000000e+00],\n",
       "       [1.0000000e+00, 0.0000000e+00, 0.0000000e+00, 2.5867023e-02,\n",
       "        9.5851833e-01, 1.0000000e+00, 0.0000000e+00, 0.0000000e+00,\n",
       "        1.0000000e+00, 8.8192672e-01, 0.0000000e+00, 0.0000000e+00,\n",
       "        2.9301383e-03, 1.0000000e+00, 1.0000000e+00, 1.0000000e+00,\n",
       "        3.6458239e-01, 0.0000000e+00, 0.0000000e+00, 0.0000000e+00,\n",
       "        1.0000000e+00, 0.0000000e+00, 2.7477109e-01, 0.0000000e+00,\n",
       "        0.0000000e+00, 0.0000000e+00, 0.0000000e+00, 2.6744115e-01],\n",
       "       [1.0000000e+00, 1.0000000e+00, 0.0000000e+00, 0.0000000e+00,\n",
       "        2.0201604e-01, 3.8924247e-01, 6.4834690e-01, 0.0000000e+00,\n",
       "        0.0000000e+00, 1.0000000e+00, 0.0000000e+00, 0.0000000e+00,\n",
       "        0.0000000e+00, 0.0000000e+00, 0.0000000e+00, 2.6388278e-02,\n",
       "        9.8660797e-01, 7.2141558e-01, 0.0000000e+00, 4.2099020e-01,\n",
       "        0.0000000e+00, 0.0000000e+00, 0.0000000e+00, 1.0000000e+00,\n",
       "        7.1465600e-01, 0.0000000e+00, 4.0404740e-01, 5.6554234e-01],\n",
       "       [4.7217587e-01, 1.0000000e+00, 0.0000000e+00, 0.0000000e+00,\n",
       "        1.0000000e+00, 4.3113163e-01, 1.0000000e+00, 9.3648469e-01,\n",
       "        1.0000000e+00, 0.0000000e+00, 8.6870915e-01, 0.0000000e+00,\n",
       "        1.0000000e+00, 0.0000000e+00, 9.4156861e-02, 1.0000000e+00,\n",
       "        5.5505955e-01, 1.0000000e+00, 1.0000000e+00, 0.0000000e+00,\n",
       "        1.0000000e+00, 0.0000000e+00, 1.0000000e+00, 1.5515704e-01,\n",
       "        3.3716828e-01, 5.7121027e-01, 0.0000000e+00, 0.0000000e+00],\n",
       "       [0.0000000e+00, 0.0000000e+00, 1.0000000e+00, 0.0000000e+00,\n",
       "        4.9619380e-01, 0.0000000e+00, 5.3035434e-02, 1.0000000e+00,\n",
       "        0.0000000e+00, 0.0000000e+00, 7.7844584e-01, 0.0000000e+00,\n",
       "        9.1942769e-01, 0.0000000e+00, 0.0000000e+00, 7.4280894e-01,\n",
       "        0.0000000e+00, 1.0000000e+00, 0.0000000e+00, 6.1706752e-01,\n",
       "        5.5785626e-01, 0.0000000e+00, 4.2796060e-01, 0.0000000e+00,\n",
       "        8.6391336e-01, 1.0000000e+00, 2.2929884e-01, 0.0000000e+00],\n",
       "       [1.0000000e+00, 1.0000000e+00, 1.0000000e+00, 1.0000000e+00,\n",
       "        1.0000000e+00, 1.0000000e+00, 1.0000000e+00, 1.0000000e+00,\n",
       "        1.0000000e+00, 1.0000000e+00, 1.0000000e+00, 1.0000000e+00,\n",
       "        1.0000000e+00, 1.0000000e+00, 1.0000000e+00, 1.0000000e+00,\n",
       "        1.0000000e+00, 1.0000000e+00, 1.0000000e+00, 1.0000000e+00,\n",
       "        1.0000000e+00, 1.0000000e+00, 1.0000000e+00, 1.0000000e+00,\n",
       "        1.0000000e+00, 1.0000000e+00, 1.0000000e+00, 1.0000000e+00],\n",
       "       [1.0000000e+00, 1.0000000e+00, 1.0000000e+00, 1.0000000e+00,\n",
       "        1.0000000e+00, 1.0000000e+00, 1.0000000e+00, 1.0000000e+00,\n",
       "        1.0000000e+00, 1.0000000e+00, 1.0000000e+00, 1.0000000e+00,\n",
       "        1.0000000e+00, 1.0000000e+00, 1.0000000e+00, 1.0000000e+00,\n",
       "        1.0000000e+00, 1.0000000e+00, 1.0000000e+00, 1.0000000e+00,\n",
       "        1.0000000e+00, 1.0000000e+00, 1.0000000e+00, 1.0000000e+00,\n",
       "        1.0000000e+00, 1.0000000e+00, 1.0000000e+00, 1.0000000e+00],\n",
       "       [1.0000000e+00, 1.0000000e+00, 1.0000000e+00, 1.0000000e+00,\n",
       "        1.0000000e+00, 1.0000000e+00, 1.0000000e+00, 1.0000000e+00,\n",
       "        1.0000000e+00, 1.0000000e+00, 1.0000000e+00, 1.0000000e+00,\n",
       "        1.0000000e+00, 1.0000000e+00, 1.0000000e+00, 1.0000000e+00,\n",
       "        1.0000000e+00, 1.0000000e+00, 1.0000000e+00, 1.0000000e+00,\n",
       "        1.0000000e+00, 1.0000000e+00, 1.0000000e+00, 1.0000000e+00,\n",
       "        1.0000000e+00, 1.0000000e+00, 1.0000000e+00, 1.0000000e+00],\n",
       "       [1.0000000e+00, 1.0000000e+00, 1.0000000e+00, 1.0000000e+00,\n",
       "        1.0000000e+00, 1.0000000e+00, 1.0000000e+00, 1.0000000e+00,\n",
       "        1.0000000e+00, 1.0000000e+00, 1.0000000e+00, 1.0000000e+00,\n",
       "        1.0000000e+00, 1.0000000e+00, 1.0000000e+00, 1.0000000e+00,\n",
       "        1.0000000e+00, 1.0000000e+00, 1.0000000e+00, 1.0000000e+00,\n",
       "        1.0000000e+00, 1.0000000e+00, 1.0000000e+00, 1.0000000e+00,\n",
       "        1.0000000e+00, 1.0000000e+00, 1.0000000e+00, 1.0000000e+00],\n",
       "       [1.0000000e+00, 1.0000000e+00, 1.0000000e+00, 1.0000000e+00,\n",
       "        1.0000000e+00, 1.0000000e+00, 1.0000000e+00, 1.0000000e+00,\n",
       "        1.0000000e+00, 1.0000000e+00, 1.0000000e+00, 1.0000000e+00,\n",
       "        1.0000000e+00, 1.0000000e+00, 1.0000000e+00, 1.0000000e+00,\n",
       "        1.0000000e+00, 1.0000000e+00, 1.0000000e+00, 1.0000000e+00,\n",
       "        1.0000000e+00, 1.0000000e+00, 1.0000000e+00, 1.0000000e+00,\n",
       "        1.0000000e+00, 1.0000000e+00, 1.0000000e+00, 1.0000000e+00],\n",
       "       [1.0000000e+00, 1.0000000e+00, 1.0000000e+00, 1.0000000e+00,\n",
       "        1.0000000e+00, 1.0000000e+00, 1.0000000e+00, 1.0000000e+00,\n",
       "        1.0000000e+00, 1.0000000e+00, 1.0000000e+00, 1.0000000e+00,\n",
       "        1.0000000e+00, 1.0000000e+00, 1.0000000e+00, 1.0000000e+00,\n",
       "        1.0000000e+00, 1.0000000e+00, 1.0000000e+00, 1.0000000e+00,\n",
       "        1.0000000e+00, 1.0000000e+00, 1.0000000e+00, 1.0000000e+00,\n",
       "        1.0000000e+00, 1.0000000e+00, 1.0000000e+00, 1.0000000e+00],\n",
       "       [1.0000000e+00, 1.0000000e+00, 1.0000000e+00, 1.0000000e+00,\n",
       "        1.0000000e+00, 1.0000000e+00, 1.0000000e+00, 1.0000000e+00,\n",
       "        1.0000000e+00, 1.0000000e+00, 1.0000000e+00, 1.0000000e+00,\n",
       "        1.0000000e+00, 1.0000000e+00, 1.0000000e+00, 1.0000000e+00,\n",
       "        1.0000000e+00, 1.0000000e+00, 1.0000000e+00, 1.0000000e+00,\n",
       "        1.0000000e+00, 1.0000000e+00, 1.0000000e+00, 1.0000000e+00,\n",
       "        1.0000000e+00, 1.0000000e+00, 1.0000000e+00, 1.0000000e+00],\n",
       "       [1.0000000e+00, 1.0000000e+00, 1.0000000e+00, 1.0000000e+00,\n",
       "        1.0000000e+00, 1.0000000e+00, 1.0000000e+00, 1.0000000e+00,\n",
       "        1.0000000e+00, 1.0000000e+00, 1.0000000e+00, 1.0000000e+00,\n",
       "        1.0000000e+00, 1.0000000e+00, 1.0000000e+00, 1.0000000e+00,\n",
       "        1.0000000e+00, 1.0000000e+00, 1.0000000e+00, 1.0000000e+00,\n",
       "        1.0000000e+00, 1.0000000e+00, 1.0000000e+00, 1.0000000e+00,\n",
       "        1.0000000e+00, 1.0000000e+00, 1.0000000e+00, 1.0000000e+00],\n",
       "       [1.0000000e+00, 1.0000000e+00, 1.0000000e+00, 1.0000000e+00,\n",
       "        1.0000000e+00, 1.0000000e+00, 1.0000000e+00, 1.0000000e+00,\n",
       "        1.0000000e+00, 1.0000000e+00, 1.0000000e+00, 1.0000000e+00,\n",
       "        1.0000000e+00, 1.0000000e+00, 1.0000000e+00, 1.0000000e+00,\n",
       "        1.0000000e+00, 1.0000000e+00, 1.0000000e+00, 1.0000000e+00,\n",
       "        1.0000000e+00, 1.0000000e+00, 1.0000000e+00, 1.0000000e+00,\n",
       "        1.0000000e+00, 1.0000000e+00, 1.0000000e+00, 1.0000000e+00],\n",
       "       [1.0000000e+00, 1.0000000e+00, 1.0000000e+00, 1.0000000e+00,\n",
       "        1.0000000e+00, 1.0000000e+00, 1.0000000e+00, 1.0000000e+00,\n",
       "        1.0000000e+00, 1.0000000e+00, 1.0000000e+00, 1.0000000e+00,\n",
       "        1.0000000e+00, 1.0000000e+00, 1.0000000e+00, 1.0000000e+00,\n",
       "        1.0000000e+00, 1.0000000e+00, 1.0000000e+00, 1.0000000e+00,\n",
       "        1.0000000e+00, 1.0000000e+00, 1.0000000e+00, 1.0000000e+00,\n",
       "        1.0000000e+00, 1.0000000e+00, 1.0000000e+00, 1.0000000e+00],\n",
       "       [0.0000000e+00, 5.6767869e-01, 0.0000000e+00, 0.0000000e+00,\n",
       "        1.0000000e+00, 0.0000000e+00, 1.0000000e+00, 0.0000000e+00,\n",
       "        0.0000000e+00, 0.0000000e+00, 1.0000000e+00, 2.5544333e-01,\n",
       "        1.6729335e-01, 2.3405855e-04, 0.0000000e+00, 0.0000000e+00,\n",
       "        1.6377382e-01, 0.0000000e+00, 0.0000000e+00, 1.0000000e+00,\n",
       "        1.0000000e+00, 1.0000000e+00, 2.5721905e-01, 0.0000000e+00,\n",
       "        7.0007080e-01, 1.6724934e-01, 0.0000000e+00, 0.0000000e+00],\n",
       "       [5.8208781e-01, 6.3287920e-01, 0.0000000e+00, 3.8539684e-01,\n",
       "        0.0000000e+00, 0.0000000e+00, 8.8011229e-01, 1.0000000e+00,\n",
       "        0.0000000e+00, 1.0000000e+00, 0.0000000e+00, 0.0000000e+00,\n",
       "        0.0000000e+00, 0.0000000e+00, 2.3247707e-01, 3.4080765e-01,\n",
       "        1.2110040e-01, 6.9339848e-01, 3.0061099e-01, 2.3366405e-01,\n",
       "        2.2043541e-01, 0.0000000e+00, 1.0000000e+00, 6.0337520e-01,\n",
       "        1.8422058e-01, 0.0000000e+00, 0.0000000e+00, 0.0000000e+00],\n",
       "       [0.0000000e+00, 1.0000000e+00, 0.0000000e+00, 0.0000000e+00,\n",
       "        1.7738068e-01, 7.5955838e-01, 2.8474000e-01, 0.0000000e+00,\n",
       "        0.0000000e+00, 1.0000000e+00, 0.0000000e+00, 0.0000000e+00,\n",
       "        4.3254304e-01, 6.3060611e-01, 0.0000000e+00, 0.0000000e+00,\n",
       "        1.0000000e+00, 0.0000000e+00, 1.0000000e+00, 9.9404782e-01,\n",
       "        0.0000000e+00, 1.0000000e+00, 1.0000000e+00, 2.1216796e-01,\n",
       "        7.7320796e-01, 4.9383876e-01, 6.6016304e-01, 0.0000000e+00],\n",
       "       [9.8582512e-01, 0.0000000e+00, 0.0000000e+00, 0.0000000e+00,\n",
       "        9.0805149e-01, 0.0000000e+00, 0.0000000e+00, 2.0258571e-01,\n",
       "        0.0000000e+00, 1.0000000e+00, 5.6205243e-01, 1.0000000e+00,\n",
       "        0.0000000e+00, 0.0000000e+00, 0.0000000e+00, 1.0000000e+00,\n",
       "        0.0000000e+00, 0.0000000e+00, 1.0000000e+00, 6.3444680e-01,\n",
       "        1.0000000e+00, 8.0722618e-01, 1.9868946e-01, 1.0000000e+00,\n",
       "        1.0000000e+00, 1.0000000e+00, 3.7882364e-01, 1.1699315e-01],\n",
       "       [0.0000000e+00, 0.0000000e+00, 4.4450954e-01, 0.0000000e+00,\n",
       "        2.3737764e-01, 0.0000000e+00, 0.0000000e+00, 7.0680827e-01,\n",
       "        6.9689360e-03, 0.0000000e+00, 0.0000000e+00, 6.5832818e-01,\n",
       "        0.0000000e+00, 0.0000000e+00, 2.9214433e-01, 0.0000000e+00,\n",
       "        0.0000000e+00, 0.0000000e+00, 0.0000000e+00, 0.0000000e+00,\n",
       "        0.0000000e+00, 1.0000000e+00, 0.0000000e+00, 8.2479155e-01,\n",
       "        0.0000000e+00, 0.0000000e+00, 3.4523168e-01, 0.0000000e+00],\n",
       "       [1.0000000e+00, 0.0000000e+00, 0.0000000e+00, 0.0000000e+00,\n",
       "        1.0000000e+00, 0.0000000e+00, 2.3162314e-03, 1.0000000e+00,\n",
       "        0.0000000e+00, 0.0000000e+00, 7.0736229e-01, 0.0000000e+00,\n",
       "        1.0000000e+00, 3.8258398e-01, 0.0000000e+00, 5.9141392e-01,\n",
       "        0.0000000e+00, 0.0000000e+00, 1.4074513e-02, 4.2660835e-01,\n",
       "        5.2337629e-01, 0.0000000e+00, 0.0000000e+00, 0.0000000e+00,\n",
       "        0.0000000e+00, 5.8213371e-01, 0.0000000e+00, 1.0000000e+00],\n",
       "       [8.5438937e-01, 0.0000000e+00, 0.0000000e+00, 0.0000000e+00,\n",
       "        4.1908643e-01, 1.0000000e+00, 0.0000000e+00, 0.0000000e+00,\n",
       "        0.0000000e+00, 1.0000000e+00, 0.0000000e+00, 1.0000000e+00,\n",
       "        1.0000000e+00, 0.0000000e+00, 0.0000000e+00, 0.0000000e+00,\n",
       "        0.0000000e+00, 2.6949608e-01, 0.0000000e+00, 1.0000000e+00,\n",
       "        0.0000000e+00, 0.0000000e+00, 5.9019297e-02, 0.0000000e+00,\n",
       "        1.0000000e+00, 7.3123914e-01, 0.0000000e+00, 6.2529063e-01],\n",
       "       [2.9654706e-01, 0.0000000e+00, 1.2983431e-01, 8.5299170e-01,\n",
       "        0.0000000e+00, 5.6782579e-01, 0.0000000e+00, 9.4776303e-01,\n",
       "        0.0000000e+00, 5.1444274e-01, 0.0000000e+00, 0.0000000e+00,\n",
       "        0.0000000e+00, 6.7212170e-01, 0.0000000e+00, 0.0000000e+00,\n",
       "        2.0109931e-01, 0.0000000e+00, 0.0000000e+00, 4.9600054e-02,\n",
       "        3.3479336e-01, 1.5890403e-01, 0.0000000e+00, 7.3398060e-01,\n",
       "        0.0000000e+00, 0.0000000e+00, 0.0000000e+00, 0.0000000e+00]],\n",
       "      dtype=float32)"
      ]
     },
     "execution_count": 38,
     "metadata": {},
     "output_type": "execute_result"
    }
   ],
   "source": [
    "test_image = np.random.randn(1, 28, 28).astype(np.float32)\n",
    "test_image[test_image < 0] = 0\n",
    "test_image[test_image > 1] = 1.0\n",
    "for i in range(10, 20):\n",
    "    for j in range(28):\n",
    "        test_image[0][i][j] = 1.0\n",
    "test_image[0]"
   ]
  },
  {
   "cell_type": "code",
   "execution_count": 39,
   "metadata": {},
   "outputs": [
    {
     "name": "stdout",
     "output_type": "stream",
     "text": [
      "INFO:tensorflow:Calling model_fn.\n",
      "INFO:tensorflow:Done calling model_fn.\n",
      "INFO:tensorflow:Graph was finalized.\n",
      "INFO:tensorflow:Restoring parameters from pattern_memorization_model\\model.ckpt-2001\n",
      "INFO:tensorflow:Running local_init_op.\n",
      "INFO:tensorflow:Done running local_init_op.\n"
     ]
    },
    {
     "data": {
      "image/png": "[encoded data removed]",
      "text/plain": [
       "<matplotlib.figure.Figure at 0x1ee6a2909b0>"
      ]
     },
     "metadata": {},
     "output_type": "display_data"
    }
   ],
   "source": [
    "input_fn = tf.estimator.inputs.numpy_input_fn(x={'x': test_image}, shuffle=False)\n",
    "pred = list(est.predict(input_fn))\n",
    "\n",
    "plt.subplot(1, 2, 1)\n",
    "plt.imshow(np.reshape(test_image, [28, 28]), cmap='gray')\n",
    "plt.subplot(1, 2, 2)\n",
    "plt.imshow(np.reshape(pred[0], [28, 28]), cmap='gray')\n",
    "plt.show()"
   ]
  },
  {
   "cell_type": "code",
   "execution_count": 40,
   "metadata": {},
   "outputs": [
    {
     "name": "stdout",
     "output_type": "stream",
     "text": [
      "INFO:tensorflow:Calling model_fn.\n",
      "INFO:tensorflow:Done calling model_fn.\n",
      "INFO:tensorflow:Starting evaluation at 2018-03-08-08:04:11\n",
      "INFO:tensorflow:Graph was finalized.\n",
      "INFO:tensorflow:Restoring parameters from pattern_memorization_model\\model.ckpt-2001\n",
      "INFO:tensorflow:Running local_init_op.\n",
      "INFO:tensorflow:Done running local_init_op.\n",
      "INFO:tensorflow:Finished evaluation at 2018-03-08-08:04:11\n",
      "INFO:tensorflow:Saving dict for global step 2001: distance = 0.2170231, global_step = 2001, loss = 0.2170231\n"
     ]
    },
    {
     "data": {
      "text/plain": [
       "{'distance': 0.2170231, 'global_step': 2001, 'loss': 0.2170231}"
      ]
     },
     "execution_count": 40,
     "metadata": {},
     "output_type": "execute_result"
    }
   ],
   "source": [
    "est.evaluate(input_fn=tf.estimator.inputs.numpy_input_fn(x={\"x\": test_image},\n",
    "                                                         y=test_image.reshape(1, 784),\n",
    "                                                         num_epochs=1,\n",
    "                                                         shuffle=False))"
   ]
  },
  {
   "cell_type": "code",
   "execution_count": 47,
   "metadata": {},
   "outputs": [
    {
     "data": {
      "text/plain": [
       "array([[1.  , 1.  , 1.  , 1.  , 1.  , 1.  , 1.  , 1.  , 1.  , 1.  , 1.  ,\n",
       "        1.  , 1.  , 1.  , 1.  , 1.  , 1.  , 1.  , 1.  , 1.  , 1.  , 1.  ,\n",
       "        1.  , 1.  , 1.  , 1.  , 1.  , 1.  ],\n",
       "       [1.  , 1.  , 1.  , 1.  , 1.  , 1.  , 1.  , 1.  , 1.  , 1.  , 1.  ,\n",
       "        1.  , 1.  , 1.  , 1.  , 1.  , 1.  , 1.  , 1.  , 1.  , 1.  , 1.  ,\n",
       "        1.  , 1.  , 1.  , 1.  , 1.  , 1.  ],\n",
       "       [1.  , 1.  , 1.  , 1.  , 1.  , 1.  , 1.  , 1.  , 1.  , 1.  , 1.  ,\n",
       "        1.  , 1.  , 1.  , 1.  , 1.  , 1.  , 1.  , 1.  , 1.  , 1.  , 1.  ,\n",
       "        1.  , 1.  , 1.  , 1.  , 1.  , 1.  ],\n",
       "       [1.  , 1.  , 1.  , 1.  , 1.  , 1.  , 1.  , 1.  , 1.  , 1.  , 1.  ,\n",
       "        1.  , 1.  , 1.  , 1.  , 1.  , 1.  , 1.  , 1.  , 1.  , 1.  , 1.  ,\n",
       "        1.  , 1.  , 1.  , 1.  , 1.  , 1.  ],\n",
       "       [1.  , 1.  , 1.  , 1.  , 0.  , 0.  , 0.25, 0.  , 0.  , 0.  , 0.  ,\n",
       "        0.  , 0.25, 0.  , 0.25, 0.  , 0.  , 0.  , 0.  , 0.  , 0.25, 0.  ,\n",
       "        0.25, 0.  , 1.  , 1.  , 1.  , 1.  ],\n",
       "       [1.  , 1.  , 1.  , 1.  , 0.  , 0.25, 0.  , 0.25, 0.25, 0.25, 0.  ,\n",
       "        0.25, 0.25, 0.  , 0.25, 0.  , 0.  , 0.25, 0.25, 0.25, 0.  , 0.25,\n",
       "        0.  , 0.  , 1.  , 1.  , 1.  , 1.  ],\n",
       "       [1.  , 1.  , 1.  , 1.  , 0.25, 0.  , 0.25, 0.  , 0.25, 0.  , 0.  ,\n",
       "        0.  , 0.25, 0.  , 0.  , 0.25, 0.  , 0.  , 0.  , 0.  , 0.  , 0.  ,\n",
       "        0.25, 0.  , 1.  , 1.  , 1.  , 1.  ],\n",
       "       [1.  , 1.  , 1.  , 1.  , 0.25, 0.  , 0.25, 0.25, 0.  , 0.  , 0.25,\n",
       "        0.25, 0.25, 0.25, 0.25, 0.  , 0.25, 0.  , 0.  , 0.25, 0.25, 0.25,\n",
       "        0.  , 0.25, 1.  , 1.  , 1.  , 1.  ],\n",
       "       [1.  , 1.  , 1.  , 1.  , 0.  , 0.25, 0.  , 0.  , 0.25, 0.25, 0.25,\n",
       "        0.25, 0.25, 0.25, 0.25, 0.  , 0.25, 0.25, 0.  , 0.25, 0.25, 0.  ,\n",
       "        0.25, 0.  , 1.  , 1.  , 1.  , 1.  ],\n",
       "       [1.  , 1.  , 1.  , 1.  , 0.  , 0.  , 0.25, 0.25, 0.25, 0.  , 0.  ,\n",
       "        0.25, 0.  , 0.  , 0.25, 0.  , 0.25, 0.25, 0.  , 0.25, 0.25, 0.  ,\n",
       "        0.25, 0.25, 1.  , 1.  , 1.  , 1.  ],\n",
       "       [1.  , 1.  , 1.  , 1.  , 0.25, 0.25, 0.  , 0.  , 0.25, 0.  , 0.  ,\n",
       "        0.25, 0.25, 0.  , 0.  , 0.25, 0.  , 0.25, 0.25, 0.  , 0.  , 0.  ,\n",
       "        0.25, 0.25, 1.  , 1.  , 1.  , 1.  ],\n",
       "       [1.  , 1.  , 1.  , 1.  , 0.25, 0.  , 0.  , 0.  , 0.25, 0.25, 0.  ,\n",
       "        0.25, 0.25, 0.  , 0.  , 0.  , 0.  , 0.25, 0.  , 0.  , 0.  , 0.25,\n",
       "        0.  , 0.  , 1.  , 1.  , 1.  , 1.  ],\n",
       "       [1.  , 1.  , 1.  , 1.  , 0.  , 0.25, 0.25, 0.  , 0.  , 0.25, 0.  ,\n",
       "        0.  , 0.  , 0.  , 0.25, 0.  , 0.  , 0.25, 0.  , 0.25, 0.25, 0.25,\n",
       "        0.  , 0.  , 1.  , 1.  , 1.  , 1.  ],\n",
       "       [1.  , 1.  , 1.  , 1.  , 0.  , 0.25, 0.25, 0.25, 0.  , 0.  , 0.25,\n",
       "        0.25, 0.25, 0.25, 0.25, 0.25, 0.  , 0.25, 0.25, 0.  , 0.  , 0.25,\n",
       "        0.  , 0.  , 1.  , 1.  , 1.  , 1.  ],\n",
       "       [1.  , 1.  , 1.  , 1.  , 0.  , 0.25, 0.  , 0.25, 0.25, 0.  , 0.  ,\n",
       "        0.  , 0.25, 0.25, 0.25, 0.25, 0.  , 0.25, 0.25, 0.  , 0.  , 0.25,\n",
       "        0.  , 0.  , 1.  , 1.  , 1.  , 1.  ],\n",
       "       [1.  , 1.  , 1.  , 1.  , 0.25, 0.25, 0.25, 0.  , 0.  , 0.25, 0.25,\n",
       "        0.25, 0.25, 0.  , 0.  , 0.  , 0.25, 0.25, 0.25, 0.  , 0.  , 0.25,\n",
       "        0.25, 0.25, 1.  , 1.  , 1.  , 1.  ],\n",
       "       [1.  , 1.  , 1.  , 1.  , 0.25, 0.  , 0.25, 0.  , 0.  , 0.  , 0.  ,\n",
       "        0.  , 0.  , 0.  , 0.25, 0.  , 0.25, 0.25, 0.  , 0.25, 0.  , 0.  ,\n",
       "        0.  , 0.25, 1.  , 1.  , 1.  , 1.  ],\n",
       "       [1.  , 1.  , 1.  , 1.  , 0.25, 0.25, 0.25, 0.  , 0.  , 0.25, 0.  ,\n",
       "        0.25, 0.25, 0.  , 0.  , 0.  , 0.25, 0.25, 0.25, 0.25, 0.25, 0.  ,\n",
       "        0.25, 0.  , 1.  , 1.  , 1.  , 1.  ],\n",
       "       [1.  , 1.  , 1.  , 1.  , 0.  , 0.25, 0.  , 0.  , 0.  , 0.25, 0.25,\n",
       "        0.  , 0.  , 0.  , 0.  , 0.25, 0.25, 0.25, 0.25, 0.  , 0.25, 0.25,\n",
       "        0.  , 0.25, 1.  , 1.  , 1.  , 1.  ],\n",
       "       [1.  , 1.  , 1.  , 1.  , 0.25, 0.  , 0.  , 0.25, 0.25, 0.  , 0.  ,\n",
       "        0.  , 0.25, 0.  , 0.  , 0.  , 0.  , 0.  , 0.  , 0.  , 0.25, 0.25,\n",
       "        0.  , 0.  , 1.  , 1.  , 1.  , 1.  ],\n",
       "       [1.  , 1.  , 1.  , 1.  , 0.  , 0.  , 0.25, 0.25, 0.  , 0.25, 0.25,\n",
       "        0.  , 0.25, 0.  , 0.25, 0.  , 0.25, 0.25, 0.25, 0.  , 0.  , 0.  ,\n",
       "        0.25, 0.25, 1.  , 1.  , 1.  , 1.  ],\n",
       "       [1.  , 1.  , 1.  , 1.  , 0.25, 0.25, 0.  , 0.25, 0.25, 0.25, 0.  ,\n",
       "        0.  , 0.25, 0.  , 0.25, 0.  , 0.  , 0.  , 0.  , 0.  , 0.  , 0.25,\n",
       "        0.25, 0.  , 1.  , 1.  , 1.  , 1.  ],\n",
       "       [1.  , 1.  , 1.  , 1.  , 0.25, 0.25, 0.25, 0.  , 0.25, 0.25, 0.  ,\n",
       "        0.  , 0.25, 0.25, 0.25, 0.  , 0.  , 0.25, 0.25, 0.  , 0.25, 0.  ,\n",
       "        0.  , 0.25, 1.  , 1.  , 1.  , 1.  ],\n",
       "       [1.  , 1.  , 1.  , 1.  , 0.  , 0.  , 0.25, 0.  , 0.25, 0.  , 0.  ,\n",
       "        0.25, 0.  , 0.  , 0.25, 0.  , 0.  , 0.25, 0.25, 0.25, 0.  , 0.  ,\n",
       "        0.  , 0.25, 1.  , 1.  , 1.  , 1.  ],\n",
       "       [1.  , 1.  , 1.  , 1.  , 1.  , 1.  , 1.  , 1.  , 1.  , 1.  , 1.  ,\n",
       "        1.  , 1.  , 1.  , 1.  , 1.  , 1.  , 1.  , 1.  , 1.  , 1.  , 1.  ,\n",
       "        1.  , 1.  , 1.  , 1.  , 1.  , 1.  ],\n",
       "       [1.  , 1.  , 1.  , 1.  , 1.  , 1.  , 1.  , 1.  , 1.  , 1.  , 1.  ,\n",
       "        1.  , 1.  , 1.  , 1.  , 1.  , 1.  , 1.  , 1.  , 1.  , 1.  , 1.  ,\n",
       "        1.  , 1.  , 1.  , 1.  , 1.  , 1.  ],\n",
       "       [1.  , 1.  , 1.  , 1.  , 1.  , 1.  , 1.  , 1.  , 1.  , 1.  , 1.  ,\n",
       "        1.  , 1.  , 1.  , 1.  , 1.  , 1.  , 1.  , 1.  , 1.  , 1.  , 1.  ,\n",
       "        1.  , 1.  , 1.  , 1.  , 1.  , 1.  ],\n",
       "       [1.  , 1.  , 1.  , 1.  , 1.  , 1.  , 1.  , 1.  , 1.  , 1.  , 1.  ,\n",
       "        1.  , 1.  , 1.  , 1.  , 1.  , 1.  , 1.  , 1.  , 1.  , 1.  , 1.  ,\n",
       "        1.  , 1.  , 1.  , 1.  , 1.  , 1.  ]], dtype=float32)"
      ]
     },
     "execution_count": 47,
     "metadata": {},
     "output_type": "execute_result"
    }
   ],
   "source": [
    "test_image = np.random.randn(1, 28, 28).astype(np.float32)\n",
    "test_image[test_image < 0] = 0\n",
    "test_image[test_image > 0] = 0.25\n",
    "for i in list(range(0, 4)) + list(range(24, 28)):\n",
    "    for j in range(0, 28):\n",
    "        test_image[0][i][j] = 1.0\n",
    "        test_image[0][j][i] = 1.0\n",
    "test_image[0]"
   ]
  },
  {
   "cell_type": "code",
   "execution_count": 48,
   "metadata": {},
   "outputs": [
    {
     "name": "stdout",
     "output_type": "stream",
     "text": [
      "INFO:tensorflow:Calling model_fn.\n",
      "INFO:tensorflow:Done calling model_fn.\n",
      "INFO:tensorflow:Graph was finalized.\n",
      "INFO:tensorflow:Restoring parameters from pattern_memorization_model\\model.ckpt-2001\n",
      "INFO:tensorflow:Running local_init_op.\n",
      "INFO:tensorflow:Done running local_init_op.\n"
     ]
    },
    {
     "data": {
      "image/png": "[encoded data removed]",
      "text/plain": [
       "<matplotlib.figure.Figure at 0x1ee985c3400>"
      ]
     },
     "metadata": {},
     "output_type": "display_data"
    }
   ],
   "source": [
    "input_fn = tf.estimator.inputs.numpy_input_fn(x={'x': test_image}, shuffle=False)\n",
    "pred = list(est.predict(input_fn))\n",
    "\n",
    "plt.subplot(1, 2, 1)\n",
    "plt.imshow(np.reshape(test_image, [28, 28]), cmap='gray')\n",
    "plt.subplot(1, 2, 2)\n",
    "plt.imshow(np.reshape(pred[0], [28, 28]), cmap='gray')\n",
    "plt.show()"
   ]
  },
  {
   "cell_type": "markdown",
   "metadata": {},
   "source": [
    "# 끗"
   ]
  }
 ],
 "metadata": {
  "kernelspec": {
   "display_name": "Python 3",
   "language": "python",
   "name": "python3"
  },
  "language_info": {
   "codemirror_mode": {
    "name": "ipython",
    "version": 3
   },
   "file_extension": ".py",
   "mimetype": "text/x-python",
   "name": "python",
   "nbconvert_exporter": "python",
   "pygments_lexer": "ipython3",
   "version": "3.6.4"
  }
 },
 "nbformat": 4,
 "nbformat_minor": 2
}
