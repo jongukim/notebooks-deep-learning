{
 "cells": [
  {
   "cell_type": "code",
   "execution_count": 2,
   "metadata": {},
   "outputs": [],
   "source": [
    "import numpy as np\n",
    "import tensorflow as tf\n",
    "import matplotlib.pyplot as plt"
   ]
  },
  {
   "cell_type": "code",
   "execution_count": 3,
   "metadata": {},
   "outputs": [
    {
     "name": "stdout",
     "output_type": "stream",
     "text": [
      "Extracting MNIST-data\\train-images-idx3-ubyte.gz\n",
      "Extracting MNIST-data\\train-labels-idx1-ubyte.gz\n",
      "Extracting MNIST-data\\t10k-images-idx3-ubyte.gz\n",
      "Extracting MNIST-data\\t10k-labels-idx1-ubyte.gz\n"
     ]
    }
   ],
   "source": [
    "mnist = tf.contrib.learn.datasets.load_dataset(\"mnist\")\n",
    "train_data = mnist.train.images  # Returns np.array\n",
    "train_labels = np.asarray(mnist.train.labels, dtype=np.int32)\n",
    "eval_data = mnist.test.images  # Returns np.array\n",
    "eval_labels = np.asarray(mnist.test.labels, dtype=np.int32)"
   ]
  },
  {
   "cell_type": "code",
   "execution_count": 4,
   "metadata": {},
   "outputs": [],
   "source": [
    "BATCH_SIZE = 512\n",
    "RNN_HIDDEN_SIZE = 128"
   ]
  },
  {
   "cell_type": "code",
   "execution_count": 5,
   "metadata": {},
   "outputs": [],
   "source": [
    "def model_fn(features, labels, mode):\n",
    "    # input_layer = tf.reshape(features[\"x\"], [-1, 784, 1])\n",
    "\n",
    "    # rnn_cell = tf.nn.rnn_cell.LSTMCell(RNN_HIDDEN_SIZE)\n",
    "    # initial_state = rnn_cell.zero_state(batch_size=BATCH_SIZE, dtype=tf.float32)\n",
    "    # _, state = tf.nn.dynamic_rnn(rnn_cell, input_layer, initial_state=initial_state, dtype=tf.float32)\n",
    "    \n",
    "    # dense1 = tf.layers.dense(inputs=tf.reshape(state, [-1, RNN_HIDDEN_SIZE * 2]), units=512, activation=tf.nn.relu)\n",
    "    # dense2 = tf.layers.dense(inputs=dense1, units=1024, activation=tf.nn.relu)\n",
    "    \n",
    "    input_layer = tf.reshape(features['x'], [-1, 28, 28, 1])\n",
    "    conv1 = tf.layers.conv2d(inputs=input_layer,\n",
    "                             filters=32,\n",
    "                             kernel_size=[5, 5],\n",
    "                             padding=\"same\",\n",
    "                             activation=tf.nn.relu)\n",
    "    pool1 = tf.layers.max_pooling2d(inputs=conv1, pool_size=[2, 2], strides=2)\n",
    "\n",
    "    conv2 = tf.layers.conv2d(inputs=pool1,\n",
    "                             filters=64,\n",
    "                             kernel_size=[5, 5],\n",
    "                             padding=\"same\",\n",
    "                             activation=tf.nn.relu)\n",
    "    pool2 = tf.layers.max_pooling2d(inputs=conv2, pool_size=[2, 2], strides=2)\n",
    "\n",
    "    pool2_flat = tf.reshape(pool2, [-1, 7 * 7 * 64])\n",
    "    dense = tf.layers.dense(inputs=pool2_flat, units=1024, activation=tf.nn.relu)\n",
    "    \n",
    "    predictions = tf.layers.dense(inputs=dense, units=784)\n",
    "    \n",
    "    if mode == tf.estimator.ModeKeys.PREDICT:\n",
    "        return tf.estimator.EstimatorSpec(mode=mode, predictions=predictions)\n",
    "\n",
    "    loss = tf.losses.mean_squared_error(labels=labels, predictions=predictions)\n",
    "\n",
    "    if mode == tf.estimator.ModeKeys.TRAIN:\n",
    "        optimizer = tf.train.AdamOptimizer(learning_rate=0.001)\n",
    "        train_op = optimizer.minimize(loss=loss, global_step=tf.train.get_global_step())\n",
    "        return tf.estimator.EstimatorSpec(mode=mode, loss=loss, train_op=train_op)\n",
    "\n",
    "    eval_metric_ops = {'distance': tf.metrics.mean_squared_error(labels=labels, predictions=predictions)}\n",
    "    return tf.estimator.EstimatorSpec(mode=mode, loss=loss, eval_metric_ops=eval_metric_ops)"
   ]
  },
  {
   "cell_type": "code",
   "execution_count": 6,
   "metadata": {},
   "outputs": [
    {
     "name": "stdout",
     "output_type": "stream",
     "text": [
      "INFO:tensorflow:Using default config.\n",
      "INFO:tensorflow:Using config: {'_model_dir': 'pattern_memorization_model', '_tf_random_seed': None, '_save_summary_steps': 100, '_save_checkpoints_steps': None, '_save_checkpoints_secs': 600, '_session_config': None, '_keep_checkpoint_max': 5, '_keep_checkpoint_every_n_hours': 10000, '_log_step_count_steps': 100, '_service': None, '_cluster_spec': <tensorflow.python.training.server_lib.ClusterSpec object at 0x000001ECCB871FD0>, '_task_type': 'worker', '_task_id': 0, '_global_id_in_cluster': 0, '_master': '', '_evaluation_master': '', '_is_chief': True, '_num_ps_replicas': 0, '_num_worker_replicas': 1}\n"
     ]
    }
   ],
   "source": [
    "est = tf.estimator.Estimator(model_fn=model_fn, model_dir='pattern_memorization_model')"
   ]
  },
  {
   "cell_type": "code",
   "execution_count": null,
   "metadata": {
    "scrolled": false
   },
   "outputs": [],
   "source": [
    "logging_hook = tf.train.LoggingTensorHook(tensors={}, at_end=True)\n",
    "\n",
    "train_input_fn = tf.estimator.inputs.numpy_input_fn(x={\"x\": train_data},\n",
    "                                                    y=train_data,\n",
    "                                                    batch_size=BATCH_SIZE,\n",
    "                                                    num_epochs=None,\n",
    "                                                    shuffle=True)\n",
    "est.train(input_fn=train_input_fn, steps=2000, hooks=[logging_hook])"
   ]
  },
  {
   "cell_type": "code",
   "execution_count": 8,
   "metadata": {},
   "outputs": [
    {
     "name": "stdout",
     "output_type": "stream",
     "text": [
      "INFO:tensorflow:Calling model_fn.\n",
      "INFO:tensorflow:Done calling model_fn.\n",
      "INFO:tensorflow:Starting evaluation at 2018-03-08-07:09:59\n",
      "INFO:tensorflow:Graph was finalized.\n",
      "INFO:tensorflow:Restoring parameters from pattern_memorization_model\\model.ckpt-2001\n",
      "INFO:tensorflow:Running local_init_op.\n",
      "INFO:tensorflow:Done running local_init_op.\n",
      "INFO:tensorflow:Finished evaluation at 2018-03-08-07:10:00\n",
      "INFO:tensorflow:Saving dict for global step 2001: distance = 0.0041406923, global_step = 2001, loss = 0.0041421107\n"
     ]
    },
    {
     "data": {
      "text/plain": [
       "{'distance': 0.0041406923, 'global_step': 2001, 'loss': 0.0041421107}"
      ]
     },
     "execution_count": 8,
     "metadata": {},
     "output_type": "execute_result"
    }
   ],
   "source": [
    "eval_input_fn = tf.estimator.inputs.numpy_input_fn(x={\"x\": eval_data},\n",
    "                                                   y=eval_data,\n",
    "                                                   num_epochs=1,\n",
    "                                                   shuffle=False)\n",
    "est.evaluate(input_fn=eval_input_fn)"
   ]
  },
  {
   "cell_type": "code",
   "execution_count": 9,
   "metadata": {},
   "outputs": [
    {
     "name": "stdout",
     "output_type": "stream",
     "text": [
      "INFO:tensorflow:Calling model_fn.\n",
      "INFO:tensorflow:Done calling model_fn.\n",
      "INFO:tensorflow:Graph was finalized.\n",
      "INFO:tensorflow:Restoring parameters from pattern_memorization_model\\model.ckpt-2001\n",
      "INFO:tensorflow:Running local_init_op.\n",
      "INFO:tensorflow:Done running local_init_op.\n"
     ]
    }
   ],
   "source": [
    "test_images = eval_data[np.random.choice(mnist.test.num_examples, 3)]\n",
    "input_fn = tf.estimator.inputs.numpy_input_fn(x={'x': test_images}, shuffle=False)\n",
    "preds = list(est.predict(input_fn))"
   ]
  },
  {
   "cell_type": "code",
   "execution_count": 10,
   "metadata": {},
   "outputs": [
    {
     "data": {
      "image/png": "[encoded data removed]",
      "text/plain": [
       "<matplotlib.figure.Figure at 0x1ee6a4b2240>"
      ]
     },
     "metadata": {},
     "output_type": "display_data"
    },
    {
     "data": {
      "image/png": "[encoded data removed]",
      "text/plain": [
       "<matplotlib.figure.Figure at 0x1ecfb241160>"
      ]
     },
     "metadata": {},
     "output_type": "display_data"
    },
    {
     "data": {
      "image/png": "[encoded data removed]",
      "text/plain": [
       "<matplotlib.figure.Figure at 0x1ee6a2a09b0>"
      ]
     },
     "metadata": {},
     "output_type": "display_data"
    }
   ],
   "source": [
    "plt.rcParams[\"figure.figsize\"] = [13, 6]\n",
    "\n",
    "for i in range(3):\n",
    "    plt.subplot(1, 2, 1)\n",
    "    plt.imshow(np.reshape(test_images[i], [28, 28]), cmap='gray')\n",
    "    plt.subplot(1, 2, 2)\n",
    "    plt.imshow(np.reshape(preds[i], [28, 28]), cmap='gray')\n",
    "    plt.show()"
   ]
  },
  {
   "cell_type": "code",
   "execution_count": 21,
   "metadata": {},
   "outputs": [
    {
     "data": {
      "text/plain": [
       "array([[0.        , 0.8690393 , 0.5       , 0.3885191 , 0.17436309,\n",
       "        0.8072526 , 0.        , 0.5       , 0.43572512, 0.03407502,\n",
       "        0.5       , 0.2767511 , 0.        , 0.        , 0.        ,\n",
       "        0.        , 0.        , 0.        , 0.        , 0.5       ,\n",
       "        0.56355333, 0.        , 0.24272236, 0.67452896, 0.        ,\n",
       "        0.        , 0.        , 0.5       ],\n",
       "       [0.        , 0.        , 0.        , 0.        , 0.        ,\n",
       "        0.5       , 0.7239114 , 0.9715247 , 0.3332219 , 0.820733  ,\n",
       "        0.5291587 , 0.10009934, 0.        , 0.        , 0.11099328,\n",
       "        0.44181812, 0.        , 0.        , 0.06187009, 0.12961829,\n",
       "        0.        , 0.        , 0.18582995, 0.10834569, 0.        ,\n",
       "        0.7871237 , 0.5       , 0.        ],\n",
       "       [0.        , 0.        , 0.        , 0.01793415, 0.5514308 ,\n",
       "        0.16830696, 0.        , 0.5       , 0.35802987, 0.6960854 ,\n",
       "        0.07842907, 0.        , 0.        , 0.        , 0.44748122,\n",
       "        0.        , 0.        , 0.2511728 , 0.89089197, 0.69609666,\n",
       "        0.5       , 0.6303153 , 0.        , 0.5       , 0.        ,\n",
       "        0.5       , 0.        , 0.        ],\n",
       "       [0.55165863, 0.        , 0.        , 0.5       , 0.        ,\n",
       "        0.        , 0.        , 0.        , 0.30159053, 0.28203997,\n",
       "        0.39370877, 0.        , 0.26795718, 0.33372056, 0.        ,\n",
       "        0.        , 0.10853785, 0.5       , 0.22854769, 0.        ,\n",
       "        0.        , 0.        , 0.        , 0.        , 0.5       ,\n",
       "        0.        , 0.38167986, 0.        ],\n",
       "       [0.04988284, 0.8101241 , 0.        , 0.5992767 , 0.        ,\n",
       "        0.5941412 , 0.        , 0.21784893, 0.        , 0.6086689 ,\n",
       "        0.        , 0.36752152, 0.4276162 , 0.        , 0.5       ,\n",
       "        0.        , 0.5       , 0.29946125, 0.35323003, 0.42156318,\n",
       "        0.77088565, 0.        , 0.        , 0.8353839 , 0.        ,\n",
       "        0.        , 0.        , 0.5       ],\n",
       "       [0.06473765, 0.        , 0.        , 0.        , 0.        ,\n",
       "        0.78334904, 0.        , 0.        , 0.        , 0.02823864,\n",
       "        0.91467637, 0.        , 0.        , 0.        , 0.23945159,\n",
       "        0.44605684, 0.        , 0.1362949 , 0.5       , 0.5       ,\n",
       "        0.        , 0.        , 0.19355015, 0.        , 0.        ,\n",
       "        0.615177  , 0.        , 0.        ],\n",
       "       [0.        , 0.1384299 , 0.        , 0.9806167 , 0.        ,\n",
       "        0.        , 0.594072  , 0.        , 0.        , 0.07833713,\n",
       "        0.5       , 0.        , 0.4985454 , 0.        , 0.        ,\n",
       "        0.        , 0.        , 0.5       , 0.        , 0.07946622,\n",
       "        0.6014779 , 0.5       , 0.6151142 , 0.        , 0.        ,\n",
       "        0.24316478, 0.74729913, 0.        ],\n",
       "       [0.        , 0.        , 0.        , 0.        , 0.55236614,\n",
       "        0.        , 0.5       , 0.        , 0.8386316 , 0.        ,\n",
       "        0.        , 0.        , 0.3178358 , 0.5       , 0.5       ,\n",
       "        0.        , 0.        , 0.        , 0.5       , 0.        ,\n",
       "        0.31238577, 0.5       , 0.        , 0.        , 0.5       ,\n",
       "        0.13570364, 0.08583303, 0.5       ],\n",
       "       [0.26992646, 0.        , 0.        , 0.65582   , 0.19965844,\n",
       "        0.        , 0.        , 0.        , 0.54852736, 0.        ,\n",
       "        0.        , 0.54964936, 0.        , 0.        , 0.6493101 ,\n",
       "        0.        , 0.        , 0.39097726, 0.27655703, 0.        ,\n",
       "        0.        , 0.79273677, 0.9822112 , 0.07380284, 0.        ,\n",
       "        0.        , 0.        , 0.        ],\n",
       "       [0.31624043, 0.5       , 0.        , 0.06624642, 0.61426586,\n",
       "        0.57675254, 0.5551319 , 0.        , 0.        , 0.19016208,\n",
       "        0.7327143 , 0.9069551 , 0.        , 0.        , 0.9362013 ,\n",
       "        0.49235666, 0.        , 0.55612695, 0.19398311, 0.        ,\n",
       "        0.        , 0.        , 0.36138532, 0.        , 0.71309805,\n",
       "        0.89218783, 0.        , 0.        ],\n",
       "       [1.        , 1.        , 1.        , 1.        , 1.        ,\n",
       "        1.        , 1.        , 1.        , 1.        , 1.        ,\n",
       "        1.        , 1.        , 1.        , 1.        , 1.        ,\n",
       "        1.        , 1.        , 1.        , 1.        , 1.        ,\n",
       "        1.        , 1.        , 1.        , 1.        , 1.        ,\n",
       "        1.        , 1.        , 1.        ],\n",
       "       [1.        , 1.        , 1.        , 1.        , 1.        ,\n",
       "        1.        , 1.        , 1.        , 1.        , 1.        ,\n",
       "        1.        , 1.        , 1.        , 1.        , 1.        ,\n",
       "        1.        , 1.        , 1.        , 1.        , 1.        ,\n",
       "        1.        , 1.        , 1.        , 1.        , 1.        ,\n",
       "        1.        , 1.        , 1.        ],\n",
       "       [1.        , 1.        , 1.        , 1.        , 1.        ,\n",
       "        1.        , 1.        , 1.        , 1.        , 1.        ,\n",
       "        1.        , 1.        , 1.        , 1.        , 1.        ,\n",
       "        1.        , 1.        , 1.        , 1.        , 1.        ,\n",
       "        1.        , 1.        , 1.        , 1.        , 1.        ,\n",
       "        1.        , 1.        , 1.        ],\n",
       "       [1.        , 1.        , 1.        , 1.        , 1.        ,\n",
       "        1.        , 1.        , 1.        , 1.        , 1.        ,\n",
       "        1.        , 1.        , 1.        , 1.        , 1.        ,\n",
       "        1.        , 1.        , 1.        , 1.        , 1.        ,\n",
       "        1.        , 1.        , 1.        , 1.        , 1.        ,\n",
       "        1.        , 1.        , 1.        ],\n",
       "       [1.        , 1.        , 1.        , 1.        , 1.        ,\n",
       "        1.        , 1.        , 1.        , 1.        , 1.        ,\n",
       "        1.        , 1.        , 1.        , 1.        , 1.        ,\n",
       "        1.        , 1.        , 1.        , 1.        , 1.        ,\n",
       "        1.        , 1.        , 1.        , 1.        , 1.        ,\n",
       "        1.        , 1.        , 1.        ],\n",
       "       [1.        , 1.        , 1.        , 1.        , 1.        ,\n",
       "        1.        , 1.        , 1.        , 1.        , 1.        ,\n",
       "        1.        , 1.        , 1.        , 1.        , 1.        ,\n",
       "        1.        , 1.        , 1.        , 1.        , 1.        ,\n",
       "        1.        , 1.        , 1.        , 1.        , 1.        ,\n",
       "        1.        , 1.        , 1.        ],\n",
       "       [1.        , 1.        , 1.        , 1.        , 1.        ,\n",
       "        1.        , 1.        , 1.        , 1.        , 1.        ,\n",
       "        1.        , 1.        , 1.        , 1.        , 1.        ,\n",
       "        1.        , 1.        , 1.        , 1.        , 1.        ,\n",
       "        1.        , 1.        , 1.        , 1.        , 1.        ,\n",
       "        1.        , 1.        , 1.        ],\n",
       "       [1.        , 1.        , 1.        , 1.        , 1.        ,\n",
       "        1.        , 1.        , 1.        , 1.        , 1.        ,\n",
       "        1.        , 1.        , 1.        , 1.        , 1.        ,\n",
       "        1.        , 1.        , 1.        , 1.        , 1.        ,\n",
       "        1.        , 1.        , 1.        , 1.        , 1.        ,\n",
       "        1.        , 1.        , 1.        ],\n",
       "       [1.        , 1.        , 1.        , 1.        , 1.        ,\n",
       "        1.        , 1.        , 1.        , 1.        , 1.        ,\n",
       "        1.        , 1.        , 1.        , 1.        , 1.        ,\n",
       "        1.        , 1.        , 1.        , 1.        , 1.        ,\n",
       "        1.        , 1.        , 1.        , 1.        , 1.        ,\n",
       "        1.        , 1.        , 1.        ],\n",
       "       [1.        , 1.        , 1.        , 1.        , 1.        ,\n",
       "        1.        , 1.        , 1.        , 1.        , 1.        ,\n",
       "        1.        , 1.        , 1.        , 1.        , 1.        ,\n",
       "        1.        , 1.        , 1.        , 1.        , 1.        ,\n",
       "        1.        , 1.        , 1.        , 1.        , 1.        ,\n",
       "        1.        , 1.        , 1.        ],\n",
       "       [0.        , 0.        , 0.        , 0.23733145, 0.        ,\n",
       "        0.        , 0.        , 0.43914735, 0.        , 0.        ,\n",
       "        0.        , 0.84567195, 0.60955286, 0.74947524, 0.62252086,\n",
       "        0.52525735, 0.        , 0.        , 0.5       , 0.        ,\n",
       "        0.5       , 0.        , 0.        , 0.        , 0.89416647,\n",
       "        0.        , 0.        , 0.        ],\n",
       "       [0.        , 0.12336356, 0.        , 0.48969287, 0.7484068 ,\n",
       "        0.        , 0.        , 0.05256483, 0.66556704, 0.        ,\n",
       "        0.        , 0.98072654, 0.5       , 0.6527199 , 0.271161  ,\n",
       "        0.5       , 0.        , 0.        , 0.        , 0.55810684,\n",
       "        0.5       , 0.        , 0.        , 0.7229914 , 0.        ,\n",
       "        0.        , 0.        , 0.        ],\n",
       "       [0.27182233, 0.08929826, 0.35194173, 0.5       , 0.        ,\n",
       "        0.        , 0.5       , 0.        , 0.5       , 0.5       ,\n",
       "        0.6585363 , 0.        , 0.1795879 , 0.5983671 , 0.        ,\n",
       "        0.        , 0.        , 0.5       , 0.52093196, 0.        ,\n",
       "        0.32916614, 0.9375301 , 0.        , 0.        , 0.5       ,\n",
       "        0.6344737 , 0.49395004, 0.        ],\n",
       "       [0.        , 0.82044363, 0.        , 0.5       , 0.40981054,\n",
       "        0.72409225, 0.5       , 0.        , 0.5       , 0.31831062,\n",
       "        0.72171044, 0.        , 0.5       , 0.06702296, 0.82543707,\n",
       "        0.        , 0.6739012 , 0.        , 0.        , 0.8441037 ,\n",
       "        0.59596276, 0.        , 0.        , 0.5       , 0.        ,\n",
       "        0.37238193, 0.07809701, 0.7224015 ],\n",
       "       [0.6570022 , 0.        , 0.14267033, 0.        , 0.        ,\n",
       "        0.4548116 , 0.48005614, 0.9549506 , 0.1582873 , 0.5       ,\n",
       "        0.        , 0.5       , 0.        , 0.        , 0.6059237 ,\n",
       "        0.        , 0.5       , 0.        , 0.9534579 , 0.        ,\n",
       "        0.1067481 , 0.        , 0.        , 0.60294366, 0.5       ,\n",
       "        0.        , 0.        , 0.        ],\n",
       "       [0.        , 0.5       , 0.0524684 , 0.67705286, 0.76330376,\n",
       "        0.        , 0.        , 0.        , 0.        , 0.45400003,\n",
       "        0.        , 0.5       , 0.5       , 0.5       , 0.        ,\n",
       "        0.        , 0.        , 0.5       , 0.5       , 0.9911104 ,\n",
       "        0.        , 0.7621259 , 0.        , 0.44873238, 0.88050485,\n",
       "        0.3749721 , 0.22819823, 0.        ],\n",
       "       [0.38912657, 0.16094656, 0.        , 0.        , 0.12689494,\n",
       "        0.5       , 0.        , 0.5       , 0.54505557, 0.        ,\n",
       "        0.19248772, 0.8808302 , 0.        , 0.        , 0.        ,\n",
       "        0.        , 0.        , 0.6117708 , 0.5492874 , 0.        ,\n",
       "        0.5       , 0.        , 0.17936186, 0.7991157 , 0.89574206,\n",
       "        0.        , 0.6651228 , 0.        ],\n",
       "       [0.        , 0.8737047 , 0.72379285, 0.        , 0.80993956,\n",
       "        0.19165355, 0.        , 0.        , 0.        , 0.        ,\n",
       "        0.5       , 0.        , 0.        , 0.5611307 , 0.04104937,\n",
       "        0.06356264, 0.        , 0.18546759, 0.        , 0.        ,\n",
       "        0.        , 0.        , 0.        , 0.5       , 0.5       ,\n",
       "        0.        , 0.5005785 , 0.5       ]], dtype=float32)"
      ]
     },
     "execution_count": 21,
     "metadata": {},
     "output_type": "execute_result"
    }
   ],
   "source": [
    "test_image = np.random.randn(28, 28).astype(np.float32)\n",
    "test_image[test_image < 0] = 0\n",
    "test_image[test_image > 1] = 0.5\n",
    "for i in range(10, 20):\n",
    "    for j in range(28):\n",
    "        test_image[i][j] = 1.0\n",
    "test_image"
   ]
  },
  {
   "cell_type": "code",
   "execution_count": 22,
   "metadata": {},
   "outputs": [
    {
     "name": "stdout",
     "output_type": "stream",
     "text": [
      "INFO:tensorflow:Calling model_fn.\n",
      "INFO:tensorflow:Done calling model_fn.\n",
      "INFO:tensorflow:Graph was finalized.\n",
      "INFO:tensorflow:Restoring parameters from pattern_memorization_model\\model.ckpt-2001\n",
      "INFO:tensorflow:Running local_init_op.\n",
      "INFO:tensorflow:Done running local_init_op.\n"
     ]
    },
    {
     "data": {
      "image/png": "[encoded data removed]",
      "text/plain": [
       "<matplotlib.figure.Figure at 0x1ecfad267f0>"
      ]
     },
     "metadata": {},
     "output_type": "display_data"
    }
   ],
   "source": [
    "input_fn = tf.estimator.inputs.numpy_input_fn(x={'x': test_image}, shuffle=False)\n",
    "pred = list(est.predict(input_fn))\n",
    "\n",
    "plt.subplot(1, 2, 1)\n",
    "plt.imshow(np.reshape(test_image, [28, 28]), cmap='gray')\n",
    "plt.subplot(1, 2, 2)\n",
    "plt.imshow(np.reshape(pred[0], [28, 28]), cmap='gray')\n",
    "plt.show()"
   ]
  },
  {
   "cell_type": "markdown",
   "metadata": {},
   "source": [
    "# 끗"
   ]
  }
 ],
 "metadata": {
  "kernelspec": {
   "display_name": "Python 3",
   "language": "python",
   "name": "python3"
  },
  "language_info": {
   "codemirror_mode": {
    "name": "ipython",
    "version": 3
   },
   "file_extension": ".py",
   "mimetype": "text/x-python",
   "name": "python",
   "nbconvert_exporter": "python",
   "pygments_lexer": "ipython3",
   "version": "3.6.4"
  }
 },
 "nbformat": 4,
 "nbformat_minor": 2
}
