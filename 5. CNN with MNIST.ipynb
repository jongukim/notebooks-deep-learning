{
 "cells": [
  {
   "cell_type": "code",
   "execution_count": 11,
   "metadata": {},
   "outputs": [],
   "source": [
    "import numpy as np\n",
    "import tensorflow as tf\n",
    "import matplotlib.pyplot as plt\n",
    "\n",
    "plt.rcParams[\"figure.figsize\"] = [8, 4]"
   ]
  },
  {
   "cell_type": "code",
   "execution_count": 2,
   "metadata": {},
   "outputs": [
    {
     "name": "stdout",
     "output_type": "stream",
     "text": [
      "Extracting MNIST-data\\train-images-idx3-ubyte.gz\n",
      "Extracting MNIST-data\\train-labels-idx1-ubyte.gz\n",
      "Extracting MNIST-data\\t10k-images-idx3-ubyte.gz\n",
      "Extracting MNIST-data\\t10k-labels-idx1-ubyte.gz\n"
     ]
    }
   ],
   "source": [
    "mnist = tf.contrib.learn.datasets.load_dataset(\"mnist\")\n",
    "train_data = mnist.train.images  # Returns np.array\n",
    "train_labels = np.asarray(mnist.train.labels, dtype=np.int32)\n",
    "eval_data = mnist.test.images  # Returns np.array\n",
    "eval_labels = np.asarray(mnist.test.labels, dtype=np.int32)"
   ]
  },
  {
   "cell_type": "markdown",
   "metadata": {},
   "source": [
    "# Convolutional Neural Networks (CNN)"
   ]
  },
  {
   "cell_type": "code",
   "execution_count": 3,
   "metadata": {},
   "outputs": [],
   "source": [
    "# codes from https://www.tensorflow.org/tutorials/layers\n",
    "\n",
    "def cnn_model_fn(features, labels, mode):\n",
    "    input_layer = tf.reshape(features[\"x\"], [-1, 28, 28, 1])\n",
    "      \n",
    "    conv1 = tf.layers.conv2d(inputs=input_layer,\n",
    "                             filters=32,\n",
    "                             kernel_size=[5, 5],\n",
    "                             padding=\"same\",\n",
    "                             activation=tf.nn.relu)\n",
    "    pool1 = tf.layers.max_pooling2d(inputs=conv1, pool_size=[2, 2], strides=2)\n",
    "\n",
    "    conv2 = tf.layers.conv2d(inputs=pool1,\n",
    "                             filters=64,\n",
    "                             kernel_size=[5, 5],\n",
    "                             padding=\"same\",\n",
    "                             activation=tf.nn.relu)\n",
    "    pool2 = tf.layers.max_pooling2d(inputs=conv2, pool_size=[2, 2], strides=2)\n",
    "\n",
    "    pool2_flat = tf.reshape(pool2, [-1, 7 * 7 * 64])\n",
    "    dense = tf.layers.dense(inputs=pool2_flat, units=1024, activation=tf.nn.relu)\n",
    "    dropout = tf.layers.dropout(inputs=dense, rate=0.4, training=mode == tf.estimator.ModeKeys.TRAIN)\n",
    "\n",
    "    logits = tf.layers.dense(inputs=dropout, units=10)\n",
    "\n",
    "    predictions = {\"classes\": tf.argmax(input=logits, axis=1),\n",
    "                   \"probabilities\": tf.nn.softmax(logits, name=\"softmax_tensor\")}\n",
    "\n",
    "    if mode == tf.estimator.ModeKeys.PREDICT:\n",
    "        return tf.estimator.EstimatorSpec(mode=mode, predictions=predictions)\n",
    "\n",
    "    loss = tf.losses.sparse_softmax_cross_entropy(labels=labels, logits=logits)\n",
    "\n",
    "    if mode == tf.estimator.ModeKeys.TRAIN:\n",
    "        optimizer = tf.train.AdamOptimizer(learning_rate=0.001)\n",
    "        train_op = optimizer.minimize(loss=loss, global_step=tf.train.get_global_step())\n",
    "        return tf.estimator.EstimatorSpec(mode=mode, loss=loss, train_op=train_op)\n",
    "\n",
    "    eval_metric_ops = {\"accuracy\": tf.metrics.accuracy(labels=labels, predictions=predictions[\"classes\"])}\n",
    "    return tf.estimator.EstimatorSpec(mode=mode, loss=loss, eval_metric_ops=eval_metric_ops)"
   ]
  },
  {
   "cell_type": "code",
   "execution_count": 4,
   "metadata": {},
   "outputs": [
    {
     "name": "stdout",
     "output_type": "stream",
     "text": [
      "INFO:tensorflow:Using default config.\n",
      "INFO:tensorflow:Using config: {'_model_dir': 'mnist_convnet_model', '_tf_random_seed': None, '_save_summary_steps': 100, '_save_checkpoints_steps': None, '_save_checkpoints_secs': 600, '_session_config': None, '_keep_checkpoint_max': 5, '_keep_checkpoint_every_n_hours': 10000, '_log_step_count_steps': 100, '_service': None, '_cluster_spec': <tensorflow.python.training.server_lib.ClusterSpec object at 0x000001B32195CDD8>, '_task_type': 'worker', '_task_id': 0, '_master': '', '_is_chief': True, '_num_ps_replicas': 0, '_num_worker_replicas': 1}\n"
     ]
    }
   ],
   "source": [
    "mnist_classifier = tf.estimator.Estimator(model_fn=cnn_model_fn, model_dir=\"mnist_convnet_model\")"
   ]
  },
  {
   "cell_type": "code",
   "execution_count": 5,
   "metadata": {},
   "outputs": [
    {
     "name": "stdout",
     "output_type": "stream",
     "text": [
      "INFO:tensorflow:Create CheckpointSaverHook.\n",
      "INFO:tensorflow:Saving checkpoints for 1 into mnist_convnet_model\\model.ckpt.\n",
      "INFO:tensorflow:loss = 2.294982, step = 1\n",
      "INFO:tensorflow:global_step/sec: 6.54853\n",
      "INFO:tensorflow:loss = 0.31479234, step = 101 (15.271 sec)\n",
      "INFO:tensorflow:global_step/sec: 6.5805\n",
      "INFO:tensorflow:loss = 0.07736204, step = 201 (15.196 sec)\n",
      "INFO:tensorflow:global_step/sec: 6.57486\n",
      "INFO:tensorflow:loss = 0.2559571, step = 301 (15.210 sec)\n",
      "INFO:tensorflow:global_step/sec: 6.5905\n",
      "INFO:tensorflow:loss = 0.03341827, step = 401 (15.172 sec)\n",
      "INFO:tensorflow:global_step/sec: 6.55541\n",
      "INFO:tensorflow:loss = 0.10857181, step = 501 (15.255 sec)\n",
      "INFO:tensorflow:global_step/sec: 6.41831\n",
      "INFO:tensorflow:loss = 0.16234039, step = 601 (15.580 sec)\n",
      "INFO:tensorflow:global_step/sec: 6.49141\n",
      "INFO:tensorflow:loss = 0.0043805963, step = 701 (15.405 sec)\n",
      "INFO:tensorflow:global_step/sec: 6.49014\n",
      "INFO:tensorflow:loss = 0.03598695, step = 801 (15.412 sec)\n",
      "INFO:tensorflow:global_step/sec: 6.57443\n",
      "INFO:tensorflow:loss = 0.017013391, step = 901 (15.206 sec)\n",
      "INFO:tensorflow:global_step/sec: 6.57096\n",
      "INFO:tensorflow:loss = 0.060036242, step = 1001 (15.218 sec)\n",
      "INFO:tensorflow:global_step/sec: 6.56361\n",
      "INFO:tensorflow:loss = 0.016950576, step = 1101 (15.236 sec)\n",
      "INFO:tensorflow:global_step/sec: 6.58615\n",
      "INFO:tensorflow:loss = 0.008950014, step = 1201 (15.183 sec)\n",
      "INFO:tensorflow:global_step/sec: 6.56102\n",
      "INFO:tensorflow:loss = 0.0280191, step = 1301 (15.243 sec)\n",
      "INFO:tensorflow:global_step/sec: 6.59137\n",
      "INFO:tensorflow:loss = 0.017178526, step = 1401 (15.171 sec)\n",
      "INFO:tensorflow:global_step/sec: 6.59094\n",
      "INFO:tensorflow:loss = 0.007966735, step = 1501 (15.171 sec)\n",
      "INFO:tensorflow:global_step/sec: 6.55326\n",
      "INFO:tensorflow:loss = 0.0066474495, step = 1601 (15.264 sec)\n",
      "INFO:tensorflow:global_step/sec: 6.58832\n",
      "INFO:tensorflow:loss = 0.05029466, step = 1701 (15.174 sec)\n",
      "INFO:tensorflow:global_step/sec: 6.52687\n",
      "INFO:tensorflow:loss = 0.0030368157, step = 1801 (15.321 sec)\n",
      "INFO:tensorflow:global_step/sec: 6.48129\n",
      "INFO:tensorflow:loss = 0.0010814591, step = 1901 (15.429 sec)\n",
      "INFO:tensorflow:Saving checkpoints for 2000 into mnist_convnet_model\\model.ckpt.\n",
      "INFO:tensorflow:\n",
      "INFO:tensorflow:Loss for final step: 0.0018992783.\n"
     ]
    },
    {
     "data": {
      "text/plain": [
       "<tensorflow.python.estimator.estimator.Estimator at 0x1b32195cbe0>"
      ]
     },
     "execution_count": 5,
     "metadata": {},
     "output_type": "execute_result"
    }
   ],
   "source": [
    "logging_hook = tf.train.LoggingTensorHook(tensors={}, at_end=True)\n",
    "\n",
    "train_input_fn = tf.estimator.inputs.numpy_input_fn(x={\"x\": train_data},\n",
    "                                                    y=train_labels,\n",
    "                                                    batch_size=100,\n",
    "                                                    num_epochs=None,\n",
    "                                                    shuffle=True)\n",
    "mnist_classifier.train(input_fn=train_input_fn,\n",
    "                       steps=2000,\n",
    "                       hooks=[logging_hook])"
   ]
  },
  {
   "cell_type": "code",
   "execution_count": 6,
   "metadata": {},
   "outputs": [
    {
     "name": "stdout",
     "output_type": "stream",
     "text": [
      "INFO:tensorflow:Starting evaluation at 2018-02-20-04:57:04\n",
      "INFO:tensorflow:Restoring parameters from mnist_convnet_model\\model.ckpt-2000\n",
      "INFO:tensorflow:Finished evaluation at 2018-02-20-04:57:09\n",
      "INFO:tensorflow:Saving dict for global step 2000: accuracy = 0.992, global_step = 2000, loss = 0.0240143\n"
     ]
    },
    {
     "data": {
      "text/plain": [
       "{'accuracy': 0.992, 'global_step': 2000, 'loss': 0.0240143}"
      ]
     },
     "execution_count": 6,
     "metadata": {},
     "output_type": "execute_result"
    }
   ],
   "source": [
    "eval_input_fn = tf.estimator.inputs.numpy_input_fn(x={\"x\": eval_data},\n",
    "                                                   y=eval_labels,\n",
    "                                                   num_epochs=1,\n",
    "                                                   shuffle=False)\n",
    "mnist_classifier.evaluate(input_fn=eval_input_fn)"
   ]
  },
  {
   "cell_type": "code",
   "execution_count": 13,
   "metadata": {},
   "outputs": [
    {
     "name": "stdout",
     "output_type": "stream",
     "text": [
      "INFO:tensorflow:Restoring parameters from mnist_convnet_model\\model.ckpt-2000\n"
     ]
    },
    {
     "data": {
      "image/png": "[encoded data removed]",
      "text/plain": [
       "<matplotlib.figure.Figure at 0x1b3270d07f0>"
      ]
     },
     "metadata": {},
     "output_type": "display_data"
    },
    {
     "name": "stdout",
     "output_type": "stream",
     "text": [
      "Model prediction: {'classes': 4, 'probabilities': array([9.19842121e-15, 1.45196355e-11, 6.36655162e-16, 2.08180200e-15,\n",
      "       9.99999523e-01, 2.37653972e-12, 1.80850628e-13, 2.10186209e-12,\n",
      "       2.05874029e-09, 5.22458549e-07], dtype=float32)}\n"
     ]
    },
    {
     "data": {
      "image/png": "[encoded data removed]",
      "text/plain": [
       "<matplotlib.figure.Figure at 0x1b325ddbe10>"
      ]
     },
     "metadata": {},
     "output_type": "display_data"
    },
    {
     "name": "stdout",
     "output_type": "stream",
     "text": [
      "Model prediction: {'classes': 2, 'probabilities': array([1.6108204e-05, 3.8240058e-04, 9.9935323e-01, 1.1322340e-04,\n",
      "       7.1983169e-07, 4.6093660e-07, 4.5918069e-09, 1.2341717e-04,\n",
      "       6.0624207e-06, 4.4323933e-06], dtype=float32)}\n"
     ]
    },
    {
     "data": {
      "image/png": "[encoded data removed]",
      "text/plain": [
       "<matplotlib.figure.Figure at 0x1b325d5fc88>"
      ]
     },
     "metadata": {},
     "output_type": "display_data"
    },
    {
     "name": "stdout",
     "output_type": "stream",
     "text": [
      "Model prediction: {'classes': 8, 'probabilities': array([2.9821376e-08, 9.8930821e-07, 3.5042664e-08, 2.1246747e-06,\n",
      "       1.5836677e-07, 7.7379582e-07, 8.3674138e-07, 6.2174514e-09,\n",
      "       9.9999499e-01, 1.3969508e-08], dtype=float32)}\n"
     ]
    }
   ],
   "source": [
    "test_images = eval_data[np.random.choice(mnist.test.num_examples, 3)]\n",
    "input_fn = tf.estimator.inputs.numpy_input_fn(x={'x': test_images}, shuffle=False)\n",
    "preds = list(mnist_classifier.predict(input_fn))\n",
    "\n",
    "for i in range(3):\n",
    "    plt.imshow(np.reshape(test_images[i], [28, 28]), cmap='gray')\n",
    "    plt.show()\n",
    "    print(\"Model prediction:\", preds[i])"
   ]
  },
  {
   "cell_type": "markdown",
   "metadata": {},
   "source": [
    "# 끗"
   ]
  }
 ],
 "metadata": {
  "kernelspec": {
   "display_name": "Python 3",
   "language": "python",
   "name": "python3"
  },
  "language_info": {
   "codemirror_mode": {
    "name": "ipython",
    "version": 3
   },
   "file_extension": ".py",
   "mimetype": "text/x-python",
   "name": "python",
   "nbconvert_exporter": "python",
   "pygments_lexer": "ipython3",
   "version": "3.6.4"
  }
 },
 "nbformat": 4,
 "nbformat_minor": 2
}
